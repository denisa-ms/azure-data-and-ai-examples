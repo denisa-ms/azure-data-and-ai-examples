{
 "cells": [
  {
   "cell_type": "code",
   "execution_count": 64,
   "metadata": {},
   "outputs": [],
   "source": [
    "from dotenv import load_dotenv\n",
    "import os\n",
    "import openai\n",
    "from IPython.display import display, HTML, JSON, Markdown\n",
    "load_dotenv()\n",
    "\n",
    "OPENAI_API_KEY = os.getenv(\"OPENAI_API_KEY\") \n",
    "OPENAI_DEPLOYMENT_ENDPOINT = os.getenv(\"OPENAI_DEPLOYMENT_ENDPOINT\")\n",
    "OPENAI_DEPLOYMENT_NAME = os.getenv(\"OPENAI_DEPLOYMENT_NAME\")\n",
    "OPENAI_MODEL_NAME = os.getenv(\"OPENAI_MODEL_NAME\")\n",
    "OPENAI_DEPLOYMENT_VERSION = os.getenv(\"OPENAI_DEPLOYMENT_VERSION\")\n",
    "\n",
    "openai.api_type = \"azure\"\n",
    "openai.api_base = OPENAI_DEPLOYMENT_ENDPOINT\n",
    "openai.api_version = \"2023-07-01-preview\"\n",
    "openai.api_key = OPENAI_API_KEY"
   ]
  },
  {
   "cell_type": "code",
   "execution_count": 73,
   "metadata": {},
   "outputs": [],
   "source": [
    "def call_openAI(text):\n",
    "    message_text = [\n",
    "    {\"role\":\"system\",\"content\":\"You are an AI assistant that helps people find information. 1. Evaluate the given Bank Transaction description and extract ONLY location, category and merchant information as follows:\\n        LOCATION: cities, countries, continents\\n        CATEGORY: Transaction category. Can be one of the following: TRANSPORTATION, GROCERIES, LEISURE, HEALTH, UTILITIES \\n        MERCHANT: Can be a merchant, company or organization \\n        2. Do not provide any additional examples to the output.\\n        3. Provide the output in a JSON format as follows only for the input Bank Transaction description:\\n        Input Bank transaction description: <the given description>\\n        Output \\n        {\\n            \\\"LOCATION\\\": [\\\"\\\"],\\n            \\\"CATEGORY\\\": [],\\n            \\\"MERCHANT\\\": [\\\"\\\"] \\n        }\\n\"},\n",
    "    {\"role\":\"user\",\"content\":text}]\n",
    "   \n",
    "    completion = openai.ChatCompletion.create(\n",
    "    engine=\"gpt-35-turbo\",\n",
    "    messages = message_text,\n",
    "    temperature=0.7,\n",
    "    max_tokens=800,\n",
    "    top_p=0.95,\n",
    "    frequency_penalty=0,\n",
    "    presence_penalty=0,\n",
    "    stop=None\n",
    "    )\n",
    "    return completion.choices[0].message.content\n"
   ]
  },
  {
   "cell_type": "code",
   "execution_count": 74,
   "metadata": {},
   "outputs": [
    {
     "data": {
      "text/html": [
       "Input Bank transaction description: May 15th, 2023 – British Telecom - $1,500\n",
       "\n",
       "Output:\n",
       "{\n",
       "    \"LOCATION\": [],\n",
       "    \"CATEGORY\": [\"UTILITIES\"],\n",
       "    \"MERCHANT\": [\"British Telecom\"]\n",
       "}"
      ],
      "text/plain": [
       "<IPython.core.display.HTML object>"
      ]
     },
     "metadata": {},
     "output_type": "display_data"
    }
   ],
   "source": [
    "answer = call_openAI(\"May 15th, 2023 – British Telecom - $1,500\")\n",
    "display(HTML(answer))"
   ]
  },
  {
   "cell_type": "code",
   "execution_count": 75,
   "metadata": {},
   "outputs": [
    {
     "data": {
      "text/html": [
       "Input Bank transaction description: May 10, 2023 – Uber BV Toll Free Amsterdam NLD - $10\n",
       "\n",
       "Output:\n",
       "{\n",
       "    \"LOCATION\": [\"Amsterdam\", \"NLD\"],\n",
       "    \"CATEGORY\": [\"TRANSPORTATION\"],\n",
       "    \"MERCHANT\": [\"Uber BV\"] \n",
       "}"
      ],
      "text/plain": [
       "<IPython.core.display.HTML object>"
      ]
     },
     "metadata": {},
     "output_type": "display_data"
    }
   ],
   "source": [
    "answer = call_openAI(\"May 10, 2023 – Uber BV Toll Free Amsterdam NLD - $10\")\n",
    "display(HTML(answer))"
   ]
  },
  {
   "cell_type": "code",
   "execution_count": 77,
   "metadata": {},
   "outputs": [
    {
     "data": {
      "text/html": [
       "Input Bank transaction description: May 10, 2023 – THE AMERICAN HEART ASSOCIATION DALLAS TX - $83.2\n",
       "\n",
       "Output:\n",
       "{\n",
       "    \"LOCATION\": [\"Dallas\", \"TX\"],\n",
       "    \"CATEGORY\": [\"HEALTH\"],\n",
       "    \"MERCHANT\": [\"THE AMERICAN HEART ASSOCIATION\"]\n",
       "}"
      ],
      "text/plain": [
       "<IPython.core.display.HTML object>"
      ]
     },
     "metadata": {},
     "output_type": "display_data"
    }
   ],
   "source": [
    "answer = call_openAI(\"May 10, 2023 – THE AMERICAN HEART ASSOCIATION DALLAS TX - $83.2\")\n",
    "display(HTML(answer))"
   ]
  }
 ],
 "metadata": {
  "kernelspec": {
   "display_name": ".venv",
   "language": "python",
   "name": "python3"
  },
  "language_info": {
   "codemirror_mode": {
    "name": "ipython",
    "version": 3
   },
   "file_extension": ".py",
   "mimetype": "text/x-python",
   "name": "python",
   "nbconvert_exporter": "python",
   "pygments_lexer": "ipython3",
   "version": "3.10.11"
  },
  "orig_nbformat": 4
 },
 "nbformat": 4,
 "nbformat_minor": 2
}
