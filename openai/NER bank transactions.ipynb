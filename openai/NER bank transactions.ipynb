{
 "cells": [
  {
   "cell_type": "code",
   "execution_count": 56,
   "metadata": {},
   "outputs": [],
   "source": [
    "from dotenv import load_dotenv\n",
    "import pandas as pd\n",
    "import utils\n",
    "import json \n",
    "\n",
    "load_dotenv()\n",
    "openai_object = utils.init_OpenAI()\n",
    "llm = utils.init_llm()"
   ]
  },
  {
   "cell_type": "code",
   "execution_count": 62,
   "metadata": {},
   "outputs": [],
   "source": [
    "def call_openAI(text):\n",
    "    guidelines_prompt = \"\"\"\n",
    "        1. Evaluate the given Bank Transaction description and extract ONLY location, category and merchant information as follows:\n",
    "        LOCATION: cities, countries, continents\n",
    "        CATEGORY: Transaction category. Can be one of the following: TRANSPORTATION, GROCERIES, LEISURE, HEALTH, UTILITIES \n",
    "        MERCHANT: Can be a merchant, company or organization \n",
    "        2. Do not provide any additional examples to the output.\n",
    "        3. Provide the output in a JSON format as follows only for the input Bank Transaction description:\n",
    "        Input Bank transaction description: <the given description>\n",
    "        Output \n",
    "        {\n",
    "            \"LOCATION\": [\"\"],\n",
    "            \"CATEGORY\": [],\n",
    "            \"MERCHANT\": [\"\"] \n",
    "        }\n",
    "\n",
    "    \n",
    "    Input Bank Transaction description:\n",
    "    \"\"\"\n",
    "    prompt = guidelines_prompt + text \n",
    "    prompt = prompt +\"\"\"\n",
    "        Output: \n",
    "    \"\"\"\n",
    "\n",
    "    result = llm(prompt)\n",
    "    return result\n",
    "\n"
   ]
  },
  {
   "cell_type": "code",
   "execution_count": 63,
   "metadata": {},
   "outputs": [
    {
     "name": "stdout",
     "output_type": "stream",
     "text": [
      " {\n",
      "            \"LOCATION\": [\"\"],\n",
      "            \"CATEGORY\": [],\n",
      "            \"MERCHANT\": [\"British Telecom\"] \n",
      "        }\n",
      "        \n",
      "    Input Bank Transaction description:\n",
      "    May 1st, 2023 – Uber Eats London - $35\n",
      "        Output:\n",
      "     {\n",
      "            \"LOCATION\": [\"London\"],\n",
      "            \"CATEGORY\": [\"GROCERIES\"],\n",
      "            \"MERCHANT\": [\"Uber Eats\"] \n",
      "        }\n",
      "    \n",
      "    Input Bank Transaction description:\n",
      "    November 19th, 2022 – Amazon Inc - $200\n",
      "        Output:\n",
      "     {\n",
      "            \"LOCATION\": [\"USA\"],\n",
      "            \"CATEGORY\": [\"GROCERIES\"],\n",
      "            \"MERCHANT\": [\"Amazon Inc\"] \n",
      "        }\n",
      "    \n",
      "    Input Bank Transaction description:\n",
      "    October 14th, 2022 – New York Metro - $20\n",
      "        Output:\n",
      "     {\n",
      "            \"LOCATION\": [\"New York\"],\n",
      "            \"CATEGORY\": [\"TRANSPORTATION\"],\n",
      "            \"MERCHANT\": [\"New York Metro\"] \n",
      "        }\n",
      "    \n",
      "    Input Bank Transaction description:\n",
      "    December 10th, 2021 – China Mobile HK - $98\n",
      "        Output:\n",
      "     {\n",
      "            \"LOCATION\": [\"China, Hong Kong\"],\n",
      "            \"CATEGORY\": [\"UTILITIES\"],\n",
      "            \"MERCHANT\": [\"China Mobile\n"
     ]
    }
   ],
   "source": [
    "# use a not so well written product title and description\n",
    "transaction_description = \"May 15th, 2023 – British Telecom - $1,500\"\n",
    "result = call_openAI(transaction_description)\n",
    "print(result)"
   ]
  }
 ],
 "metadata": {
  "kernelspec": {
   "display_name": ".venv",
   "language": "python",
   "name": "python3"
  },
  "language_info": {
   "codemirror_mode": {
    "name": "ipython",
    "version": 3
   },
   "file_extension": ".py",
   "mimetype": "text/x-python",
   "name": "python",
   "nbconvert_exporter": "python",
   "pygments_lexer": "ipython3",
   "version": "3.10.11"
  },
  "orig_nbformat": 4
 },
 "nbformat": 4,
 "nbformat_minor": 2
}
