{
 "cells": [
  {
   "cell_type": "code",
   "execution_count": 1,
   "metadata": {},
   "outputs": [],
   "source": [
    "from dotenv import load_dotenv\n",
    "import openai\n",
    "import os\n",
    "\n",
    "load_dotenv()\n",
    "OPENAI_API_KEY = os.getenv(\"OPENAI_API_KEY\") \n",
    "OPENAI_DEPLOYMENT_ENDPOINT = os.getenv(\"OPENAI_DEPLOYMENT_ENDPOINT\")\n",
    "OPENAI_DEPLOYMENT_NAME = os.getenv(\"OPENAI_DEPLOYMENT_NAME\")\n",
    "OPENAI_MODEL_NAME = os.getenv(\"OPENAI_MODEL_NAME\")\n",
    "OPENAI_DEPLOYMENT_VERSION = os.getenv(\"OPENAI_DEPLOYMENT_VERSION\")\n",
    "\n",
    "AZURE_COMPUTER_VISION_ENDPOINT = os.getenv(\"AZURE_COMPUTER_VISION_ENDPOINT\")\n",
    "AZURE_COMPUTER_VISION_KEY = os.getenv(\"AZURE_COMPUTER_VISION_KEY\")\n"
   ]
  },
  {
   "cell_type": "code",
   "execution_count": 2,
   "metadata": {},
   "outputs": [],
   "source": [
    "import os\n",
    "import azure.ai.vision as visionsdk\n",
    "\n",
    "\n",
    "def analyze_image(image_filename):\n",
    "    service_options = visionsdk.VisionServiceOptions(AZURE_COMPUTER_VISION_ENDPOINT, AZURE_COMPUTER_VISION_KEY)\n",
    "\n",
    "    # Specify the image file on disk to analyze. sample.jpg is a good example to show most features\n",
    "    # vision_source = visionsdk.VisionSource(filename=\"sample.jpg\")\n",
    "\n",
    "    # Or, instead of the above, specify a publicly accessible image URL to analyze. For example:\n",
    "    vision_source = visionsdk.VisionSource(filename=image_filename)\n",
    "\n",
    "    analysis_options = visionsdk.ImageAnalysisOptions()\n",
    "\n",
    "    # Mandatory. You must set one or more features to analyze. Here we use the full set of features.\n",
    "    # Note that \"CAPTION\" and \"DENSE_CAPTIONS\" are only supported in Azure GPU regions (East US, France Central,\n",
    "    # Korea Central, North Europe, Southeast Asia, West Europe, West US). Remove \"CAPTION\" and \"DENSE_CAPTIONS\"\n",
    "    # from the list below if your Computer Vision key is not from one of those regions.\n",
    "    analysis_options.features = (\n",
    "        # visionsdk.ImageAnalysisFeature.CROP_SUGGESTIONS |\n",
    "        visionsdk.ImageAnalysisFeature.CAPTION |\n",
    "        visionsdk.ImageAnalysisFeature.DENSE_CAPTIONS |\n",
    "        visionsdk.ImageAnalysisFeature.OBJECTS |\n",
    "        visionsdk.ImageAnalysisFeature.PEOPLE |\n",
    "        visionsdk.ImageAnalysisFeature.TEXT |\n",
    "        visionsdk.ImageAnalysisFeature.TAGS\n",
    "    )\n",
    "\n",
    "    # Optional, and only relevant when you select ImageAnalysisFeature.CROP_SUGGESTIONS.\n",
    "    # Define one or more aspect ratios for the desired cropping. Each aspect ratio needs\n",
    "    # to be in the range [0.75, 1.8]. If you do not set this, the service will return one\n",
    "    # crop suggestion with the aspect ratio it sees fit.\n",
    "    # analysis_options.cropping_aspect_ratios = [0.9, 1.33]\n",
    "\n",
    "    # Optional. Default is \"en\" for English. See https://aka.ms/cv-languages for a list of supported\n",
    "    # language codes and which visual features are supported for each language.\n",
    "    analysis_options.language = \"en\"\n",
    "    analysis_options.model_version = \"latest\"\n",
    "    # Set this to \"true\" to get a gender neutral caption (the default is \"false\").\n",
    "    analysis_options.gender_neutral_caption = True\n",
    "\n",
    "    # Create the image analyzer object\n",
    "    image_analyzer = visionsdk.ImageAnalyzer(service_options, vision_source, analysis_options)\n",
    "\n",
    "    # This call creates the network connection and blocks until Image Analysis results\n",
    "    # return (or an error occurred). Note that there is also an asynchronous (non-blocking)\n",
    "    # version of this method: image_analyzer.analyze_async().\n",
    "    result = image_analyzer.analyze()\n",
    "\n",
    "    # Checks result.\n",
    "    if result.reason == visionsdk.ImageAnalysisResultReason.ANALYZED:\n",
    "\n",
    "        print(\" Image height: {}\".format(result.image_height))\n",
    "        print(\" Image width: {}\".format(result.image_width))\n",
    "        print(\" Model version: {}\".format(result.model_version))\n",
    "\n",
    "        if result.caption is not None:\n",
    "            print(\" Caption:\")\n",
    "            print(\"   '{}', Confidence {:.4f}\".format(result.caption.content, result.caption.confidence))\n",
    "\n",
    "        if result.dense_captions is not None:\n",
    "            print(\" Dense Captions:\")\n",
    "            for caption in result.dense_captions:\n",
    "                print(\"   '{}', {}, Confidence: {:.4f}\".format(caption.content, caption.bounding_box, caption.confidence))\n",
    "\n",
    "        if result.objects is not None:\n",
    "            print(\" Objects:\")\n",
    "            for object in result.objects:\n",
    "                print(\"   '{}', {}, Confidence: {:.4f}\".format(object.name, object.bounding_box, object.confidence))\n",
    "\n",
    "        if result.tags is not None:\n",
    "            print(\" Tags:\")\n",
    "            for tag in result.tags:\n",
    "                print(\"   '{}', Confidence {:.4f}\".format(tag.name, tag.confidence))\n",
    "\n",
    "        if result.people is not None:\n",
    "            print(\" People:\")\n",
    "            for person in result.people:\n",
    "                print(\"   {}, Confidence {:.4f}\".format(person.bounding_box, person.confidence))\n",
    "\n",
    "        if result.crop_suggestions is not None:\n",
    "            print(\" Crop Suggestions:\")\n",
    "            for crop_suggestion in result.crop_suggestions:\n",
    "                print(\"   Aspect ratio {}: Crop suggestion {}\"\n",
    "                      .format(crop_suggestion.aspect_ratio, crop_suggestion.bounding_box))\n",
    "\n",
    "        if result.text is not None:\n",
    "            print(\" Text:\")\n",
    "            for line in result.text.lines:\n",
    "                points_string = \"{\" + \", \".join([str(int(point)) for point in line.bounding_polygon]) + \"}\"\n",
    "                print(\"   Line: '{}', Bounding polygon {}\".format(line.content, points_string))\n",
    "                for word in line.words:\n",
    "                    points_string = \"{\" + \", \".join([str(int(point)) for point in word.bounding_polygon]) + \"}\"\n",
    "                    print(\"     Word: '{}', Bounding polygon {}, Confidence {:.4f}\"\n",
    "                          .format(word.content, points_string, word.confidence))\n",
    "\n",
    "        result_details = visionsdk.ImageAnalysisResultDetails.from_result(result)\n",
    "        print(\" Result details:\")\n",
    "        print(\"   Image ID: {}\".format(result_details.image_id))\n",
    "        print(\"   Result ID: {}\".format(result_details.result_id))\n",
    "        print(\"   Connection URL: {}\".format(result_details.connection_url))\n",
    "        print(\"   JSON result: {}\".format(result_details.json_result))\n",
    "\n",
    "    else:\n",
    "        error_details = visionsdk.ImageAnalysisErrorDetails.from_result(result)\n",
    "        print(\" Analysis failed.\")\n",
    "        print(\"   Error reason: {}\".format(error_details.reason))\n",
    "        print(\"   Error code: {}\".format(error_details.error_code))\n",
    "        print(\"   Error message: {}\".format(error_details.message))\n",
    "        print(\" Did you set the computer vision endpoint and key?\")\n",
    "\n",
    "    return result_details.json_result"
   ]
  },
  {
   "cell_type": "markdown",
   "metadata": {},
   "source": [
    "#### Analyze a picture using Azure Cognitve services to extract text from a picture"
   ]
  },
  {
   "cell_type": "code",
   "execution_count": 3,
   "metadata": {},
   "outputs": [
    {
     "name": "stdout",
     "output_type": "stream",
     "text": [
      " Image height: 224\n",
      " Image width: 224\n",
      " Model version: 2023-02-01-preview\n",
      " Caption:\n",
      "   'a blue and pink polo shirt', Confidence 0.7036\n",
      " Dense Captions:\n",
      "   'a blue and pink polo shirt', Rectangle(x=0, y=0, w=224, h=224), Confidence: 0.7118\n",
      "   'a blue shirt with purple and pink design', Rectangle(x=4, y=17, w=140, h=181), Confidence: 0.6391\n",
      "   'a blue shirt with a tie', Rectangle(x=107, y=19, w=107, h=182), Confidence: 0.6826\n",
      " Objects:\n",
      " Tags:\n",
      "   'clothing', Confidence 0.9994\n",
      "   'fabric', Confidence 0.9067\n",
      "   'sleeve', Confidence 0.9034\n",
      "   'collar', Confidence 0.9000\n",
      "   'active shirt', Confidence 0.8928\n",
      "   'top', Confidence 0.8923\n",
      "   'shirt', Confidence 0.8135\n",
      "   'person', Confidence 0.6144\n",
      " People:\n",
      "   Rectangle(x=103, y=0, w=113, h=213), Confidence 0.0026\n",
      "   Rectangle(x=0, y=0, w=63, h=223), Confidence 0.0022\n",
      "   Rectangle(x=0, y=0, w=162, h=221), Confidence 0.0015\n",
      "   Rectangle(x=166, y=0, w=57, h=223), Confidence 0.0014\n",
      " Text:\n",
      " Result details:\n",
      "   Image ID: ./data/retail/bike.jpg\n",
      "   Result ID: e18a1792-9105-4e48-b0e2-5232cd49d7d3\n",
      "   Connection URL: https://computervisiondenisa.cognitiveservices.azure.com/computervision/imageanalysis:analyze?api-version=2023-02-01-preview&features=tags%2Ccaption%2CdenseCaptions%2Cobjects%2Cpeople%2Cread&gender-neutral-caption=true&language=en&model-version=latest\n",
      "   JSON result: {\"captionResult\":{\"text\":\"a blue and pink polo shirt\",\"confidence\":0.7036414742469788},\"objectsResult\":{\"values\":[]},\"readResult\":{\"stringIndexType\":\"TextElements\",\"content\":\"\",\"pages\":[{\"height\":224.0,\"width\":224.0,\"angle\":0.0,\"pageNumber\":1,\"words\":[],\"spans\":[{\"offset\":0,\"length\":0}],\"lines\":[]}],\"styles\":[],\"modelVersion\":\"2022-04-30\"},\"denseCaptionsResult\":{\"values\":[{\"text\":\"a blue and pink polo shirt\",\"confidence\":0.7118337750434875,\"boundingBox\":{\"x\":0,\"y\":0,\"w\":224,\"h\":224}},{\"text\":\"a blue shirt with purple and pink design\",\"confidence\":0.6390741467475891,\"boundingBox\":{\"x\":4,\"y\":17,\"w\":140,\"h\":181}},{\"text\":\"a blue shirt with a tie\",\"confidence\":0.6825627684593201,\"boundingBox\":{\"x\":107,\"y\":19,\"w\":107,\"h\":182}}]},\"modelVersion\":\"2023-02-01-preview\",\"metadata\":{\"width\":224,\"height\":224},\"tagsResult\":{\"values\":[{\"name\":\"clothing\",\"confidence\":0.999369740486145},{\"name\":\"fabric\",\"confidence\":0.9067331552505493},{\"name\":\"sleeve\",\"confidence\":0.9034119844436646},{\"name\":\"collar\",\"confidence\":0.8999518156051636},{\"name\":\"active shirt\",\"confidence\":0.8928235769271851},{\"name\":\"top\",\"confidence\":0.892290472984314},{\"name\":\"shirt\",\"confidence\":0.813533365726471},{\"name\":\"person\",\"confidence\":0.6144185662269592}]},\"peopleResult\":{\"values\":[{\"boundingBox\":{\"x\":103,\"y\":0,\"w\":113,\"h\":213},\"confidence\":0.0026073618791997433},{\"boundingBox\":{\"x\":0,\"y\":0,\"w\":63,\"h\":223},\"confidence\":0.0021513751707971096},{\"boundingBox\":{\"x\":0,\"y\":0,\"w\":162,\"h\":221},\"confidence\":0.0015311301685869694},{\"boundingBox\":{\"x\":166,\"y\":0,\"w\":57,\"h\":223},\"confidence\":0.0013908384134992957}]}}\n"
     ]
    }
   ],
   "source": [
    "image_url = \"./data/retail/bike.jpg\"\n",
    "json_result = analyze_image(image_url)"
   ]
  },
  {
   "cell_type": "markdown",
   "metadata": {},
   "source": [
    "#### Extract all dense captions from the json result"
   ]
  },
  {
   "cell_type": "code",
   "execution_count": 15,
   "metadata": {},
   "outputs": [],
   "source": [
    "import json\n",
    "dict = json.loads(json_result)\n",
    "dense_captions = dict[\"denseCaptionsResult\"][\"values\"]\n"
   ]
  },
  {
   "cell_type": "markdown",
   "metadata": {},
   "source": [
    "#### Generate a product description from the text extracted from the photo using OpenAI"
   ]
  },
  {
   "cell_type": "code",
   "execution_count": 9,
   "metadata": {},
   "outputs": [],
   "source": [
    "openai.api_type = \"azure\"\n",
    "openai.api_base = OPENAI_DEPLOYMENT_ENDPOINT\n",
    "openai.api_version = \"2023-07-01-preview\"\n",
    "openai.api_key = OPENAI_API_KEY"
   ]
  },
  {
   "cell_type": "code",
   "execution_count": 11,
   "metadata": {},
   "outputs": [],
   "source": [
    "def call_openAI(text):\n",
    "    message_text = [\n",
    "    {\"role\":\"system\",\"content\":\"You are an AI assistant that generates product descriptions for an online retail website especializing in clothing. Given the user's input, generate a Product Description.\"},\n",
    "    {\"role\":\"user\",\"content\":text}]\n",
    "   \n",
    "    completion = openai.ChatCompletion.create(\n",
    "    engine=OPENAI_DEPLOYMENT_NAME,\n",
    "    messages = message_text,\n",
    "    temperature=0.7,\n",
    "    max_tokens=800,\n",
    "    top_p=0.95,\n",
    "    frequency_penalty=0,\n",
    "    presence_penalty=0,\n",
    "    stop=None\n",
    "    )\n",
    "    return completion.choices[0].message.content"
   ]
  },
  {
   "cell_type": "code",
   "execution_count": 18,
   "metadata": {},
   "outputs": [
    {
     "name": "stdout",
     "output_type": "stream",
     "text": [
      "Option 1: Introducing our long green dress with a black belt - the perfect addition to your wardrobe for any special occasion! This dress features a stunning emerald green color that is sure to turn heads. The black belt cinches at the waist, creating a flattering silhouette that will make you feel confident and beautiful. The dress is made with high-quality materials, ensuring both comfort and durability. Whether you're attending a formal event or a night out with friends, this dress is sure to impress. Don't hesitate, add this gorgeous green dress to your collection today!\n",
      "Option 2: Introducing our stylish green dress with long sleeves, perfect for any occasion. Made with high-quality materials, this dress is both comfortable and elegant. The vibrant green color adds a pop of color to your wardrobe, while the long sleeves provide coverage and warmth on cooler days. The dress features a flattering silhouette that hugs your curves in all the right places, while the long sleeves create a sleek and sophisticated look. Whether you're heading to a formal event or a casual outing with friends, this dress is sure to turn heads and make you feel confident and beautiful. Don't miss out on this must-have addition to your wardrobe!\n",
      "Option 3: Introducing our stunning green dress, perfect for any occasion! The dress is elegantly draped on a mannequin, showcasing its flowing design and flattering silhouette. Made with high-quality materials, this dress is both comfortable and durable. The beautiful shade of green is sure to turn heads and complement any skin tone. The dress features a classic neckline and a timeless design that will never go out of style. Whether you're attending a formal event or a casual gathering, this dress is sure to make you look and feel your best. Don't miss out on this must-have addition to your wardrobe!\n"
     ]
    }
   ],
   "source": [
    "count = 1\n",
    "for caption in dense_captions:\n",
    "    result = call_openAI(caption[\"text\"])\n",
    "    print(\"Option \" + str(count) + \": \" + result)\n",
    "    count = count + 1\n"
   ]
  }
 ],
 "metadata": {
  "kernelspec": {
   "display_name": ".venv",
   "language": "python",
   "name": "python3"
  },
  "language_info": {
   "codemirror_mode": {
    "name": "ipython",
    "version": 3
   },
   "file_extension": ".py",
   "mimetype": "text/x-python",
   "name": "python",
   "nbconvert_exporter": "python",
   "pygments_lexer": "ipython3",
   "version": "3.10.11"
  },
  "orig_nbformat": 4
 },
 "nbformat": 4,
 "nbformat_minor": 2
}
