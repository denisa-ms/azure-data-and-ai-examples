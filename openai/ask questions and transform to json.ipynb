{
 "cells": [
  {
   "attachments": {},
   "cell_type": "markdown",
   "metadata": {},
   "source": [
    "### DESCRIPTION:\n",
    "    Create a prompt to extract entities by turning a user’s question into a JSON object that can be used to search in a Database\n",
    "\n",
    "### REQUIREMENTS:\n",
    "    Create an .env file with your OpenAI API key and save it in the root directory of this project with the following\n",
    "    OPENAI_DEPLOYMENT_ENDPOINT =\"<your openai endpoint>\" \n",
    "    OPENAI_API_KEY = \"<your openai api key>\"\n",
    "    OPENAI_DEPLOYMENT_NAME = \"<your gpt35 deployment name>\"\n",
    "    OPENAI_DEPLOYMENT_VERSION = \"<gpt35 api version>\"\n",
    "    OPENAI_MODEL_NAME=\"<gpt35 model name>\"\n"
   ]
  },
  {
   "cell_type": "markdown",
   "metadata": {},
   "source": [
    "#### Call OpenAI to generate JSON from user's input ####"
   ]
  },
  {
   "cell_type": "code",
   "execution_count": 4,
   "metadata": {},
   "outputs": [],
   "source": [
    "from dotenv import load_dotenv\n",
    "import pandas as pd\n",
    "import os\n",
    "import openai\n",
    "import utils\n",
    "import json"
   ]
  },
  {
   "cell_type": "code",
   "execution_count": 20,
   "metadata": {},
   "outputs": [],
   "source": [
    "json_template_prefix = \"\"\"\n",
    "<|im_start|>system\n",
    "You are an assistant designed to extract entities from a user question. Users will paste in a string of text and you will respond with entities you have extracted from the text as a JSON object. Here is an example of your output format:\n",
    "{moods:[],instruments:[],genres:[], suggestions:mood:[],instrument:[],genre:[]}  \n",
    "\"\"\"\n",
    "template_sufix = \"<|im_end|>\\n<|im_start|>assistant\""
   ]
  },
  {
   "cell_type": "code",
   "execution_count": 73,
   "metadata": {},
   "outputs": [],
   "source": [
    "def call_openai(template_prefix, text):\n",
    "    prompt = template_prefix + text + template_sufix\n",
    "    response = openai.Completion.create(\n",
    "        engine=utils.OPENAI_DEPLOYMENT_NAME,\n",
    "        prompt=prompt,\n",
    "        temperature=0,\n",
    "        max_tokens=4096,\n",
    "        top_p=0.95,\n",
    "        frequency_penalty=0,\n",
    "        presence_penalty=0,\n",
    "        stop=[\"<|im_end|>\"])\n",
    "    response = response['choices'][0]['text']\n",
    "    response = utils.remove_chars(\"\\n\", response)\n",
    "    response=utils.start_after_string(\"Answer:\", response)\n",
    "    response=utils.remove_tail_tags(\"<|im_end|>\", response)\n",
    "    return response\n",
    "\n",
    "def call_openai_json_response(template_prefix, text):\n",
    "    response = call_openai(template_prefix, text)\n",
    "    utils.pretty_print_json_string(response)"
   ]
  },
  {
   "cell_type": "code",
   "execution_count": 48,
   "metadata": {},
   "outputs": [
    {
     "name": "stdout",
     "output_type": "stream",
     "text": [
      "{\n",
      "  \"moods\": [\n",
      "    \"happy\"\n",
      "  ],\n",
      "  \"instruments\": [\n",
      "    \"guitar\",\n",
      "    \"piano\"\n",
      "  ],\n",
      "  \"genres\": [],\n",
      "  \"suggestions\": {\n",
      "    \"mood\": [\n",
      "      \"upbeat\",\n",
      "      \"cheerful\"\n",
      "    ],\n",
      "    \"instrument\": [],\n",
      "    \"genre\": []\n",
      "  }\n",
      "}\n"
     ]
    }
   ],
   "source": [
    "call_openai_json_response(json_template_prefix, \"I would like to find music for guitar or piano, for a happy mood\")"
   ]
  }
 ],
 "metadata": {
  "kernelspec": {
   "display_name": ".venv",
   "language": "python",
   "name": "python3"
  },
  "language_info": {
   "codemirror_mode": {
    "name": "ipython",
    "version": 3
   },
   "file_extension": ".py",
   "mimetype": "text/x-python",
   "name": "python",
   "nbconvert_exporter": "python",
   "pygments_lexer": "ipython3",
   "version": "3.10.11"
  },
  "orig_nbformat": 4
 },
 "nbformat": 4,
 "nbformat_minor": 2
}
