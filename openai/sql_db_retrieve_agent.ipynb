{
 "cells": [
  {
   "attachments": {},
   "cell_type": "markdown",
   "metadata": {},
   "source": [
    "### DESCRIPTION:\n",
    "    This example shows how to retrieve data from Azure SQL DB by using GPT.  \n",
    "    Asking questions in plain english that gets \"translated\" by GPT into SQL.\n",
    "    Using Langchain SQLDatabaseToolkit\n",
    "### REQUIREMENTS:\n",
    "    1. Create an Azure SQL DB and populate it with data.\n",
    "    2. Create an .env file in the root folder with the following variables:\n",
    "      SQL_SERVER=\"<server>\"\n",
    "      SQL_USER=\"<user>\"\n",
    "      SQL_PWD=\"<pwd>\"\n",
    "      SQL_DBNAME=\"<dbname>\"\n",
    "\n",
    "### Sample questions you can ask:\n",
    "      List the tables in the database\n",
    "      How many products are in the Adventure Works database?\n",
    "      How many Products are color black?\n",
    "      How many SalesOrderDetail are for the Product AWC Logo Cap ?\n",
    "      List the top 10 most expensive products\n",
    "      What are the top 10 highest grossing products in the Adventure Works database?\n",
    "\n",
    "### For more information about Langchain agent toolkits, see:\n",
    "  https://github.com/hwchase17/langchain/tree/master/langchain/agents/agent_toolkits\n"
   ]
  },
  {
   "cell_type": "code",
   "execution_count": null,
   "metadata": {},
   "outputs": [],
   "source": [
    "from langchain import SQLDatabase\n",
    "from langchain.llms import AzureOpenAI\n",
    "from langchain.agents import create_sql_agent\n",
    "from langchain.agents.agent_toolkits import SQLDatabaseToolkit\n",
    "from langchain.sql_database import SQLDatabase\n",
    "from dotenv import load_dotenv\n",
    "import utils"
   ]
  },
  {
   "cell_type": "code",
   "execution_count": null,
   "metadata": {},
   "outputs": [],
   "source": [
    "def ask_question(agent_executor, question):\n",
    "    answer = agent_executor.run(question)\n",
    "    pos = answer.find(\"Question:\")\n",
    "    if pos > 0:\n",
    "        answer = answer[0:pos]\n",
    "    pos = answer.find(\"<|im_end|>\")\n",
    "    if pos > 0:\n",
    "        answer = answer[0:pos]\n",
    "    print(\"Answer:\", answer)"
   ]
  },
  {
   "cell_type": "code",
   "execution_count": null,
   "metadata": {},
   "outputs": [],
   "source": [
    "utils.init_OpenAI()\n",
    "llm = AzureOpenAI(deployment_name=utils.OPENAI_DEPLOYMENT_NAME, model_name=utils.OPENAI_MODEL_NAME)\n",
    "sqlconn = f\"mssql+pymssql://{utils.SQL_USER}:{utils.SQL_PWD}@{utils.SQL_SERVER}:1433/{utils.SQL_DBNAME}\"\n",
    "db = SQLDatabase.from_uri(sqlconn)\n",
    "toolkit = SQLDatabaseToolkit(db=db, llm=llm)\n",
    "agent_executor = create_sql_agent(llm=llm,toolkit=toolkit,verbose=False)"
   ]
  },
  {
   "cell_type": "code",
   "execution_count": null,
   "metadata": {},
   "outputs": [],
   "source": [
    "ask_question(agent_executor, \"How many products are in the Adventure Works database?\")"
   ]
  },
  {
   "cell_type": "code",
   "execution_count": null,
   "metadata": {},
   "outputs": [],
   "source": [
    "ask_question(agent_executor, \"What is the average list price of the products in the Adventure Works database?\")"
   ]
  },
  {
   "cell_type": "code",
   "execution_count": null,
   "metadata": {},
   "outputs": [],
   "source": [
    "ask_question(agent_executor, \"How many Products are color black?\")"
   ]
  },
  {
   "cell_type": "code",
   "execution_count": null,
   "metadata": {},
   "outputs": [],
   "source": [
    "ask_question(agent_executor, \"How many SalesOrderDetail are for the Product AWC Logo Cap ?\")"
   ]
  },
  {
   "cell_type": "code",
   "execution_count": null,
   "metadata": {},
   "outputs": [],
   "source": [
    "ask_question(agent_executor, \"List the top 10 most expensive products\")"
   ]
  },
  {
   "cell_type": "code",
   "execution_count": null,
   "metadata": {},
   "outputs": [],
   "source": [
    "ask_question(agent_executor, \"What are the top 10 highest grossing products in the Adventure Works database?\")"
   ]
  }
 ],
 "metadata": {
  "kernelspec": {
   "display_name": ".venv",
   "language": "python",
   "name": "python3"
  },
  "language_info": {
   "codemirror_mode": {
    "name": "ipython",
    "version": 3
   },
   "file_extension": ".py",
   "mimetype": "text/x-python",
   "name": "python",
   "nbconvert_exporter": "python",
   "pygments_lexer": "ipython3",
   "version": "3.10.11"
  },
  "orig_nbformat": 4
 },
 "nbformat": 4,
 "nbformat_minor": 2
}
