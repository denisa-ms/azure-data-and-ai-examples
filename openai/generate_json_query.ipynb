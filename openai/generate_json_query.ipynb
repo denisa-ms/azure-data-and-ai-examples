{
 "cells": [
  {
   "attachments": {},
   "cell_type": "markdown",
   "metadata": {},
   "source": [
    "### DESCRIPTION:\n",
    "    This example shows how to generate a query json from user input using OpenAI GPT3.5 completion model\n",
    "### REQUIREMENTS:\n",
    "    Create an .env file with your OpenAI API key and save it in the root directory of this project with the following\n",
    "    OPENAI_DEPLOYMENT_ENDPOINT =\"<your openai endpoint>\" \n",
    "    OPENAI_API_KEY = \"<your openai api key>\"\n",
    "    OPENAI_DEPLOYMENT_NAME = \"<your gpt35 deployment name>\"\n",
    "    OPENAI_DEPLOYMENT_VERSION = \"<gpt35 api version>\"\n",
    "    OPENAI_MODEL_NAME=\"<gpt35 model name>\"\n"
   ]
  },
  {
   "cell_type": "code",
   "execution_count": 2,
   "metadata": {},
   "outputs": [],
   "source": [
    "from dotenv import load_dotenv\n",
    "import pandas as pd\n",
    "import utils\n",
    "import os\n",
    "import openai\n",
    "import json \n",
    "\n",
    "load_dotenv()\n",
    "OPENAI_API_KEY = os.getenv(\"OPENAI_API_KEY\") \n",
    "OPENAI_DEPLOYMENT_ENDPOINT = os.getenv(\"OPENAI_DEPLOYMENT_ENDPOINT\")\n",
    "OPENAI_DEPLOYMENT_NAME = os.getenv(\"OPENAI_DEPLOYMENT_NAME\")\n",
    "OPENAI_MODEL_NAME = os.getenv(\"OPENAI_MODEL_NAME\")\n",
    "OPENAI_DEPLOYMENT_VERSION = os.getenv(\"OPENAI_DEPLOYMENT_VERSION\")\n",
    "# Configure OpenAI API\n",
    "openai.api_type = \"azure\"\n",
    "openai.api_version = OPENAI_DEPLOYMENT_VERSION\n",
    "openai.api_base = OPENAI_DEPLOYMENT_ENDPOINT\n",
    "openai.api_key = OPENAI_API_KEY"
   ]
  },
  {
   "cell_type": "code",
   "execution_count": 3,
   "metadata": {},
   "outputs": [],
   "source": [
    "template_prefix = \"\"\"\n",
    "<|im_start|>system\n",
    "You are an assistant designed to extract entities from a user question. Users will paste in a string of text and you will respond with entities you have extracted from the text as a JSON object. Here is an example of your output format:\n",
    "{duration:\\\"\\\",mood:[],instrument:[],genre:[], suggestions:mood:[],instrument:[],genre:[]}  \n",
    "\"\"\"\n",
    "template_sufix = \"<|im_end|>\\n<|im_start|>assistant\""
   ]
  },
  {
   "cell_type": "code",
   "execution_count": 4,
   "metadata": {},
   "outputs": [],
   "source": [
    "def pretty_print_json_string(json_string):\n",
    "    json_object = json.loads(json_string)\n",
    "    json_formatted_str = json.dumps(json_object, indent=2)\n",
    "    print(json_formatted_str)\n",
    "\n",
    "def call_openai(text):\n",
    "    prompt = template_prefix + text + template_sufix\n",
    "    response = openai.Completion.create(\n",
    "        engine=utils.OPENAI_DEPLOYMENT_NAME,\n",
    "        prompt=prompt,\n",
    "        temperature=0,\n",
    "        max_tokens=4096,\n",
    "        top_p=0.95,\n",
    "        frequency_penalty=0,\n",
    "        presence_penalty=0,\n",
    "        stop=[\"<|im_end|>\"])\n",
    "    response = response['choices'][0]['text']\n",
    "    response = utils.remove_chars(\"\\n\", response)\n",
    "    response=utils.start_after_string(\"Answer:\", response)\n",
    "    response=utils.remove_tail_tags(\"<|im_end|>\", response)\n",
    "    print(\"Order: \\n\")\n",
    "    pretty_print_json_string(response)"
   ]
  },
  {
   "cell_type": "code",
   "execution_count": 5,
   "metadata": {},
   "outputs": [
    {
     "name": "stdout",
     "output_type": "stream",
     "text": [
      "Order: \n",
      "\n",
      "{\n",
      "  \"duration\": \"\",\n",
      "  \"mood\": [\n",
      "    \"romantic\"\n",
      "  ],\n",
      "  \"instrument\": [\n",
      "    \"cello\",\n",
      "    \"piano\"\n",
      "  ],\n",
      "  \"genre\": [],\n",
      "  \"suggestions\": {\n",
      "    \"mood\": [\n",
      "      \"classical\",\n",
      "      \"jazz\"\n",
      "    ],\n",
      "    \"instrument\": [\n",
      "      \"violin\",\n",
      "      \"guitar\"\n",
      "    ],\n",
      "    \"genre\": [\n",
      "      \"romantic\",\n",
      "      \"contemporary\"\n",
      "    ]\n",
      "  }\n",
      "}\n"
     ]
    }
   ],
   "source": [
    "call_openai(\"I would like to find music for cello or piano, for a romantic mood\")"
   ]
  }
 ],
 "metadata": {
  "kernelspec": {
   "display_name": ".venv",
   "language": "python",
   "name": "python3"
  },
  "language_info": {
   "codemirror_mode": {
    "name": "ipython",
    "version": 3
   },
   "file_extension": ".py",
   "mimetype": "text/x-python",
   "name": "python",
   "nbconvert_exporter": "python",
   "pygments_lexer": "ipython3",
   "version": "3.10.11"
  },
  "orig_nbformat": 4
 },
 "nbformat": 4,
 "nbformat_minor": 2
}
