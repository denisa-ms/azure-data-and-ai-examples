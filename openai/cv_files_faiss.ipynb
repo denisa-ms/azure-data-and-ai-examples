{
 "cells": [
  {
   "attachments": {},
   "cell_type": "markdown",
   "metadata": {},
   "source": [
    "### DESCRIPTION:\n",
    "   Ask your file repository questions – use Azure OpenAI to scan candidates resumes and create embeddings saving it to an in memory vector store (faiss – open source vector store)\n",
    "### REQUIREMENTS:\n",
    "    Create an .env file with your OpenAI API key and save it in the root directory of this project.\n",
    "\n",
    "  For more information about Faiss index, see:\n",
    "      https://github.com/facebookresearch/faiss"
   ]
  },
  {
   "cell_type": "code",
   "execution_count": 1,
   "metadata": {},
   "outputs": [],
   "source": [
    "from langchain.text_splitter import TokenTextSplitter\n",
    "from langchain.document_loaders import TextLoader\n",
    "from langchain.vectorstores import FAISS\n",
    "from langchain.document_loaders import DirectoryLoader\n",
    "from langchain.prompts import PromptTemplate\n",
    "from langchain.vectorstores import FAISS\n",
    "from langchain.chains import RetrievalQA\n",
    "from langchain.vectorstores import FAISS\n",
    "from langchain import PromptTemplate\n",
    "\n",
    "import utils"
   ]
  },
  {
   "cell_type": "code",
   "execution_count": 2,
   "metadata": {},
   "outputs": [],
   "source": [
    "# IMPORTANT!!\n",
    "# you only need to run this once to create the embeddings, then you can use the faiss_index for retrieval\n",
    "# you can use the already created faiss_index in the dbs folder - ./dbs/CV/faiss_index\n",
    "\n",
    "# create embeddings from Employee's CV files in the /data/CV/ folder and save it to a FAISS index.\n",
    "utils.init_OpenAI()\n",
    "embeddings = utils.init_embeddings()\n",
    "loader = DirectoryLoader('./data/CV/', glob=\"*.txt\", loader_cls=TextLoader)\n",
    "documents = loader.load()\n",
    "text_splitter = TokenTextSplitter(chunk_size=1000, chunk_overlap=0)\n",
    "docs = text_splitter.split_documents(documents)\n",
    "db = FAISS.from_documents(documents=docs, embedding=embeddings)\n",
    "db.save_local(\"./dbs/CV/faiss_index\")"
   ]
  },
  {
   "cell_type": "code",
   "execution_count": 2,
   "metadata": {},
   "outputs": [],
   "source": [
    "# initialize the llm and the vectorstore retriever\n",
    "llm = utils.init_llm()\n",
    "embeddings = utils.init_embeddings()\n",
    "\n",
    "vectorStore = FAISS.load_local(\"./dbs/CV/faiss_index\", embeddings)\n",
    "retriever = vectorStore.as_retriever(search_type=\"similarity\", search_kwargs={\"k\":1})\n",
    "qa = RetrievalQA.from_chain_type(llm=llm, chain_type=\"stuff\", retriever=retriever, return_source_documents=True)"
   ]
  },
  {
   "cell_type": "code",
   "execution_count": 6,
   "metadata": {},
   "outputs": [],
   "source": [
    "def ask_question(qa, question):\n",
    "    template = \"\"\"\n",
    "        respond as succinctly as possible. {query}?\n",
    "    \"\"\"\n",
    "\n",
    "    prompt = PromptTemplate(\n",
    "        input_variables=[\"query\"],\n",
    "        template=template,\n",
    "    )\n",
    "    result = qa(prompt.format(query=question))\n",
    "    print(\"Answer:\", result[\"result\"])"
   ]
  },
  {
   "cell_type": "code",
   "execution_count": 7,
   "metadata": {},
   "outputs": [
    {
     "name": "stdout",
     "output_type": "stream",
     "text": [
      "Answer: Yes, Christopher L. Hall is a solution architect.\n"
     ]
    }
   ],
   "source": [
    "ask_question(qa,\"Are there any solution architects?\")"
   ]
  },
  {
   "cell_type": "code",
   "execution_count": 8,
   "metadata": {},
   "outputs": [
    {
     "name": "stdout",
     "output_type": "stream",
     "text": [
      "Answer: There is no information provided on whether or not Alexis Mattos-Vabre is proficient in cloud technologies.\n"
     ]
    }
   ],
   "source": [
    "ask_question(qa, \"is any of them proficient in cloud technologies?\")"
   ]
  },
  {
   "cell_type": "code",
   "execution_count": 9,
   "metadata": {},
   "outputs": [
    {
     "name": "stdout",
     "output_type": "stream",
     "text": [
      "Answer: Yes, Mei Chen has 5 years of experience in big data technologies and is proficient in programming languages such as Python, Java, and Scala.\n"
     ]
    }
   ],
   "source": [
    "ask_question(qa, \"do they know big data technologies?\")"
   ]
  }
 ],
 "metadata": {
  "kernelspec": {
   "display_name": ".venv",
   "language": "python",
   "name": "python3"
  },
  "language_info": {
   "codemirror_mode": {
    "name": "ipython",
    "version": 3
   },
   "file_extension": ".py",
   "mimetype": "text/x-python",
   "name": "python",
   "nbconvert_exporter": "python",
   "pygments_lexer": "ipython3",
   "version": "3.11.2"
  },
  "orig_nbformat": 4
 },
 "nbformat": 4,
 "nbformat_minor": 2
}
