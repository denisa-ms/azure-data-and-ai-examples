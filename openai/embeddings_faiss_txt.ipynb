{
 "cells": [
  {
   "attachments": {},
   "cell_type": "markdown",
   "metadata": {},
   "source": [
    "### DESCRIPTION:\n",
    "    This example shows how to create embeddings from \"Moby-Dick; or The Whale\" - a novel by Herman Melville in txt format and saves it in the /dbs/books/ folder to a FAISS index.\n",
    "    Then query these documents and get an answer using OpenAI GPT3.5 with chat\n",
    "### REQUIREMENTS:\n",
    "    Create an .env file with your OpenAI API key and save it in the root directory of this project.\n",
    "\n",
    "  For more information about Faiss index, see:\n",
    "      https://github.com/facebookresearch/faiss"
   ]
  },
  {
   "cell_type": "code",
   "execution_count": 1,
   "metadata": {},
   "outputs": [],
   "source": [
    "from langchain.text_splitter import RecursiveCharacterTextSplitter\n",
    "from langchain.document_loaders import TextLoader\n",
    "from langchain.chains import RetrievalQA\n",
    "from langchain.vectorstores import FAISS\n",
    "from langchain.chains.question_answering import load_qa_chain\n",
    "\n",
    "import utils\n",
    "from dotenv import load_dotenv"
   ]
  },
  {
   "cell_type": "code",
   "execution_count": null,
   "metadata": {},
   "outputs": [],
   "source": [
    "# IMPORTANT!!\n",
    "# you only need to run this once to create the embeddings, then you can use the faiss_index for retrieval\n",
    "# you can use the already created faiss_index in the dbs folder - ./dbs/documentation/faiss_index\n",
    "\n",
    "# create embeddings from Azure Documentation files in PDF format in the /data/documentation/ folder and save it to a FAISS index.\n",
    "utils.init_OpenAI()\n",
    "embeddings = utils.init_embeddings()\n",
    "\n",
    "dataPath = \"./data/books/\"\n",
    "\n",
    "# you can add as many txt files as you want to the files list\n",
    "files = [\"moby dick - the whale.txt\"]\n",
    "for file_name in files:\n",
    "    fileName = dataPath + file_name\n",
    "    loader = TextLoader(fileName, encoding=\"utf-8\")\n",
    "    documents = loader.load()\n",
    "\n",
    "    text_splitter = RecursiveCharacterTextSplitter(chunk_size=1000, chunk_overlap=100, separators= [\"\\n\\n\", \"\\n\", \".\", \";\", \",\", \" \", \"\"])\n",
    "    texts = text_splitter.split_documents(documents)\n",
    "    db = FAISS.from_documents(documents=texts, embedding=embeddings)\n",
    "    db.save_local(\"./dbs/books/faiss_index\")"
   ]
  },
  {
   "cell_type": "code",
   "execution_count": 2,
   "metadata": {},
   "outputs": [],
   "source": [
    "\n",
    "llm = utils.init_llm()\n",
    "embeddings = utils.init_embeddings()\n",
    "vectorStore = FAISS.load_local(\"./dbs/books/faiss_index\", embeddings)\n",
    "retriever = vectorStore.as_retriever(search_type=\"similarity\", search_kwargs={\"k\":2})\n",
    "qa = RetrievalQA.from_chain_type(llm=llm, chain_type=\"stuff\", retriever=retriever, return_source_documents=False)"
   ]
  },
  {
   "cell_type": "code",
   "execution_count": 8,
   "metadata": {},
   "outputs": [
    {
     "data": {
      "text/plain": [
       "{'query': \"Why does the coffin prepared for Queequeg become Ishmael's life buoy once the Pequod sinks?\",\n",
       " 'result': \"There is no indication in the provided context that the coffin prepared for Queequeg becomes Ishmael's life buoy once the Pequod sinks. The life buoy mentioned is described as a long slender cask that was dropped from the stern, and it eventually sinks to the bottom of the sea.\"}"
      ]
     },
     "execution_count": 8,
     "metadata": {},
     "output_type": "execute_result"
    }
   ],
   "source": [
    "qa({\"query\": \"Why does the coffin prepared for Queequeg become Ishmael's life buoy once the Pequod sinks?\"})"
   ]
  },
  {
   "cell_type": "code",
   "execution_count": 9,
   "metadata": {},
   "outputs": [
    {
     "data": {
      "text/plain": [
       "{'query': 'Why does Ahab pursue Moby Dick so single-mindedly?',\n",
       " 'result': \"Ahab pursues Moby Dick so single-mindedly because he seeks revenge against the whale for taking his leg in a previous encounter. Additionally, it is suggested that Ahab's vindictiveness may have extended to all sperm whales, and that he identified with Moby Dick as the embodiment of all his woes and frustrations.\"}"
      ]
     },
     "execution_count": 9,
     "metadata": {},
     "output_type": "execute_result"
    }
   ],
   "source": [
    "qa({\"query\": \"Why does Ahab pursue Moby Dick so single-mindedly?\"})"
   ]
  },
  {
   "cell_type": "code",
   "execution_count": 10,
   "metadata": {},
   "outputs": [
    {
     "data": {
      "text/plain": [
       "{'query': \"Why does the novel's narrator begin his story with 'Call me Ishmael'?\",\n",
       " 'result': \"The novel's narrator begins his story with 'Call me Ishmael' because he wants to introduce himself to the readers and create a personal connection with them. He wants to establish his identity and let the readers know that they will be hearing his story from his perspective.\"}"
      ]
     },
     "execution_count": 10,
     "metadata": {},
     "output_type": "execute_result"
    }
   ],
   "source": [
    "qa({\"query\": \"Why does the novel's narrator begin his story with 'Call me Ishmael'?\"})"
   ]
  }
 ],
 "metadata": {
  "kernelspec": {
   "display_name": ".venv",
   "language": "python",
   "name": "python3"
  },
  "language_info": {
   "codemirror_mode": {
    "name": "ipython",
    "version": 3
   },
   "file_extension": ".py",
   "mimetype": "text/x-python",
   "name": "python",
   "nbconvert_exporter": "python",
   "pygments_lexer": "ipython3",
   "version": "3.11.2"
  },
  "orig_nbformat": 4
 },
 "nbformat": 4,
 "nbformat_minor": 2
}
