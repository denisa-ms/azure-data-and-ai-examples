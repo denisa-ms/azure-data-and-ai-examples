{
 "cells": [
  {
   "attachments": {},
   "cell_type": "markdown",
   "metadata": {},
   "source": [
    "### DESCRIPTION:\n",
    "    This example shows how to rephrase product descriptions into better english and return a JSON format\n",
    "    Then translate the JSON into spanish and french\n",
    "### REQUIREMENTS:\n",
    "    Create an .env file with your OpenAI API key and save it in the root directory of this project.\n"
   ]
  },
  {
   "cell_type": "code",
   "execution_count": 1,
   "metadata": {},
   "outputs": [],
   "source": [
    "from dotenv import load_dotenv\n",
    "import pandas as pd\n",
    "import utils\n",
    "import json \n",
    "\n",
    "load_dotenv()\n",
    "openai_object = utils.init_OpenAI()\n",
    "llm = utils.init_llm()"
   ]
  },
  {
   "cell_type": "code",
   "execution_count": 2,
   "metadata": {},
   "outputs": [],
   "source": [
    "\n",
    "def rephrase_english(openai_object, text):\n",
    "    prompt = \"\"\"\n",
    "    Rephrase the original text provided in proper english and provide the answer in json format as follows:{product_title:\\\"\\\", product_desc:\\\"\\\", tags:[]}\n",
    "    Original text:\n",
    "\n",
    "    \"\"\"\n",
    "    prompt = prompt + text\n",
    "    response = openai_object.Completion.create(\n",
    "        engine=utils.OPENAI_DEPLOYMENT_NAME,\n",
    "        prompt=prompt,\n",
    "        temperature=0,\n",
    "        max_tokens=2000,\n",
    "        top_p=0.5,\n",
    "        frequency_penalty=0,\n",
    "        presence_penalty=0,\n",
    "        stop=None)\n",
    "    response = response['choices'][0]['text']\n",
    "    response = utils.remove_chars(\"\\n\", response)\n",
    "    response=utils.start_after_string(\"Answer:\", response)\n",
    "    response=utils.remove_tail_tags(\"<|im_end|>\", response)\n",
    "    return response"
   ]
  },
  {
   "cell_type": "code",
   "execution_count": 3,
   "metadata": {},
   "outputs": [
    {
     "name": "stdout",
     "output_type": "stream",
     "text": [
      "Rephrased: \n",
      "\n",
      "{\n",
      "  \"product_title\": \"1 Pc Four Poles Hole Free Towel Rack Aluminum Towel Holder Bathroom Accessories Swivel Towel Rack Bath Towel Holder For Bathroom (preto)\",\n",
      "  \"product_desc\": \"This towel holder is made of high-quality aluminum material. It is rust resistant and waterproof. You don't need to punch a hole on the wall, you can save time and money for punching holes. This space-saving towel rack is definitely a must for any small bathroom as instead of taking up space, make your space tidy and clean. This holder can be used in the bathroom as well as the kitchen for hanging towels and other items.\",\n",
      "  \"tags\": [\n",
      "    \"towel rack\",\n",
      "    \"towel holder\",\n",
      "    \"bathroom accessories\",\n",
      "    \"swivel towel rack\",\n",
      "    \"bath towel holder\",\n",
      "    \"preto\",\n",
      "    \"aluminum\",\n",
      "    \"hole free\",\n",
      "    \"four poles\",\n",
      "    \"anti-slip cap\",\n",
      "    \"rust resistant\",\n",
      "    \"waterproof\",\n",
      "    \"space-saving\",\n",
      "    \"small bathroom\",\n",
      "    \"kitchen\",\n",
      "    \"hanging towels\",\n",
      "    \"clean\",\n",
      "    \"hygienic\"\n",
      "  ]\n",
      "}\n"
     ]
    }
   ],
   "source": [
    "# use a not so well written product title and description\n",
    "product_title = \"1 Pc Four Poles Hole Free Towel Rack Aluminum Towel Holder Bathroom Accessories Swivel Towel Rack Bath Towel Holder For Bathroom (preto).\"\n",
    "product_description = \"Description_This towel holder is made of aluminum material for durable use. Using this towel rack can save space for you and make your space tidy and clean. The anti-slip cap design can ensure that your towels will not fall to the ground and remain clean and hygienicFeatures_ COR: preto._ Material: Aluminum._TAMANHO: 30 x 32 x 5 cm._ This towel holder is made of high-quality aluminum material. It is rust resistant and waterproof._ You don&39;t need to punch a hole on the wall, you can save time and money for punching holes._This space-saving towel rack is definitely a must for any small bathroom as instead of taking up space, make your space tidy and clean._ This holder can be used in the bathroom as well as the kitchen for hanging towels and other items.\"\n",
    "product_str = \"product title:\" + product_title + \" product description:\" + product_description\n",
    "# rephrase product title and description\n",
    "product_str_rephrased = rephrase_english(openai_object, product_str)\n",
    "print(\"Rephrased: \\n\")\n",
    "utils.pretty_print_json_string(product_str_rephrased)"
   ]
  },
  {
   "cell_type": "code",
   "execution_count": 4,
   "metadata": {},
   "outputs": [],
   "source": [
    "def translate_english(llm, text, language):\n",
    "    prompt = \"\"\"You are a helpful assistant that translates text into \"\"\" + language + \"\"\".\n",
    "                Answer in a clear and concise manner respecting the JSON format as it was provided translating the product title, product description and tags in the JSON. \n",
    "                Text:\n",
    "\n",
    "                \"\"\"\n",
    "\n",
    "    prompt = prompt + text\n",
    "    response = openai_object.Completion.create(\n",
    "        engine=utils.OPENAI_DEPLOYMENT_NAME,\n",
    "        prompt=prompt,\n",
    "        temperature=0,\n",
    "        max_tokens=2000,\n",
    "        top_p=0.5,\n",
    "        frequency_penalty=0,\n",
    "        presence_penalty=0,\n",
    "        stop=None)\n",
    "    response = response['choices'][0]['text']\n",
    "    response = utils.remove_chars(\"\\n\", response)\n",
    "    response=utils.start_after_string(\"Answer:\", response)\n",
    "    response=utils.remove_tail_tags(\"<|im_end|>\", response)\n",
    "    return response"
   ]
  },
  {
   "cell_type": "code",
   "execution_count": 5,
   "metadata": {},
   "outputs": [
    {
     "name": "stdout",
     "output_type": "stream",
     "text": [
      "`,            \"answer\": `{                \"product_title\": \"1 Pc Cuatro Polos Toallero Sin Agujeros Toallero de Aluminio Accesorios de Baño Toallero Giratorio Toallero de Baño (preto)\",                \"product_desc\": \"Este toallero está hecho de material de aluminio de alta calidad. Es resistente al óxido y al agua. No es necesario perforar un agujero en la pared, puede ahorrar tiempo y dinero para perforar agujeros. Este toallero que ahorra espacio es definitivamente un elemento imprescindible para cualquier baño pequeño, ya que en lugar de ocupar espacio, hace que su espacio esté ordenado y limpio. Este soporte se puede utilizar en el baño y en la cocina para colgar toallas y otros artículos.\",                \"tags\": [\"toallero\", \"soporte para toallas\", \"accesorios de baño\", \"toallero giratorio\", \"soporte para toallas de baño\", \"preto\", \"aluminio\", \"sin agujeros\", \"cuatro polos\", \"tapón antideslizante\", \"resistente al óxido\", \"impermeable\", \"ahorro de espacio\", \"baño pequeño\", \"cocina\", \"colgar toallas\", \"limpio\", \"higiénico\"]            }`        },        {            \"input\": `{                \"product_title\": \"1 Pc Four Poles Hole Free Towel Rack Aluminum Towel Holder Bathroom Accessories Swivel Towel Rack Bath Towel Holder For Bathroom (preto)\",                \"product_desc\": \"This towel holder is made of high-quality aluminum material. It is rust resistant and waterproof. You don't need to punch a hole on the wall, you can save time and money for punching holes. This space-saving towel rack is definitely a must for any small bathroom as instead of taking up space, make your space tidy and clean. This holder can be used in the bathroom as well as the kitchen for hanging towels and other items.\",                \"tags\": [\"towel rack\", \"towel holder\", \"bathroom accessories\", \"swivel towel rack\", \"bath towel holder\", \"preto\", \"aluminum\", \"hole free\", \"four poles\", \"anti-slip cap\", \"rust resistant\", \"waterproof\", \"space-saving\", \"small bathroom\", \"kitchen\", \"hanging towels\", \"clean\", \"hygienic\"]            }`,            \"output\": `{                \"product_title\": \"1 Pc Four Poles Hole Free Towel Rack Aluminum Towel Holder Bathroom Accessories Swivel Towel Rack Bath Towel Holder For Bathroom (preto)\",                \"product_desc\": \"This towel holder is made of high-quality aluminum material. It is rust resistant and waterproof. You don't need to punch a hole on the wall, you can save time and money for punching holes. This space-saving towel rack is definitely a must for any small bathroom as instead of taking up space, make your space tidy and clean. This holder can be used in the bathroom as well as the kitchen for hanging towels and other items.\",                \"tags\": [\"towel rack\", \"towel holder\", \"bathroom accessories\", \"swivel towel rack\", \"bath towel holder\", \"preto\", \"aluminum\", \"hole free\", \"four poles\", \"anti-slip cap\", \"rust resistant\", \"waterproof\", \"space-saving\", \"small bathroom\", \"kitchen\", \"hanging towels\", \"clean\", \"hygienic\"]            }`        }    ]}```**Test Input Reasoning:**We will test with very basic input, which only contains one word in each field.**Test Input Reasoning:**We will test with more complex input, which contains multiple words in each field.**Test Input Reasoning:**We will test with more complex input, which contains multiple words in each field and some special characters.**Test Input Reasoning:**We will test with more complex input, which contains multiple words in each field and some special characters and numbers.**Test Input Reasoning:**We will test with more complex input, which contains multiple words in each field and some special characters and numbers and multiple tags.**Test Input Reasoning:**We will test with more complex input, which contains multiple words in each field and some special characters and numbers and multiple tags and some fields are empty.**Test Input Reasoning:**We will test with more complex input, which contains multiple words in each field and some special characters and numbers and multiple tags and some fields are empty and some fields are missing.**Test Input Reasoning:**We will test with more complex input, which contains multiple words in each field and some special characters and numbers and multiple tags and some fields are empty and some fields are missing and some fields are not in english.**Test Input Reasoning:**We will test with more complex input, which contains multiple words in each field and some special characters and numbers and multiple tags and some fields are empty and some fields are missing and some fields are not in english and some fields are in uppercase.**Test Input Reasoning:**We will test with more complex input, which contains multiple words in each field and some special characters and numbers and multiple tags and some fields are empty and some fields are missing and some fields are not in english and some fields are in uppercase and some fields are in lowercase.**Test Input Reasoning:**We will test with more complex input, which contains multiple words in each field and some special characters and numbers and multiple tags and some fields are empty and some fields are missing and some fields are not in english and some fields are in uppercase and some fields are in lowercase and some fields are in mixed case.**Test Input Reasoning:**We will test with more complex input, which contains multiple words in each field and some special characters and numbers and multiple tags and some fields are empty and some fields are missing and some fields are not in english and some fields are in uppercase and some fields are in lowercase and some fields are in mixed case and some fields are in different languages.**Test Input Reasoning:**We will test with more complex input, which contains multiple words in each field and some special characters and numbers and multiple tags and some fields are empty and some fields are missing and some fields are not in english and some fields are in uppercase and some fields are in lowercase and some fields are in mixed case and some fields are in different languages and some fields are very long.**Test Input Reasoning:**We will test with more complex input, which contains multiple words in each field and some special characters and numbers and multiple tags and some fields are empty and some fields are missing and some fields are not in english and some fields are in uppercase and some fields are in lowercase and some fields are in mixed case and some fields are in different languages and some fields are very long and some fields are very short.\n"
     ]
    }
   ],
   "source": [
    "# translate product description to spanish\n",
    "product_str_es = translate_english(llm, product_str_rephrased, \"spanish\")\n",
    "print(product_str_es)"
   ]
  },
  {
   "cell_type": "code",
   "execution_count": 9,
   "metadata": {},
   "outputs": [
    {
     "name": "stdout",
     "output_type": "stream",
     "text": [
      "French: \n",
      "\n",
      "\"\"\",                \"answer\": {                    \"product_title\": \"1 Pc Porte-serviettes sans trou à quatre pôles en aluminium Porte-serviettes Accessoires de salle de bain Porte-serviettes pivotant Porte-serviettes de bain pour salle de bain (preto)\",                    \"product_desc\": \"Ce porte-serviettes est fabriqué en aluminium de haute qualité. Il est résistant à la rouille et étanche. Vous n'avez pas besoin de percer un trou dans le mur, vous pouvez gagner du temps et de l'argent pour percer des trous. Ce porte-serviettes gain de place est définitivement un must pour toute petite salle de bain car au lieu de prendre de la place, il rend votre espace propre et bien rangé. Ce support peut être utilisé dans la salle de bain ainsi que dans la cuisine pour suspendre des serviettes et d'autres articles.\",                    \"tags\": [\"porte-serviettes\", \"porte-serviettes\", \"accessoires de salle de bain\", \"porte-serviettes pivotant\", \"porte-serviettes de bain\", \"preto\", \"aluminium\", \"sans trou\", \"quatre pôles\", \"capuchon antidérapant\", \"résistant à la rouille\", \"étanche\", \"gain de place\", \"petite salle de bain\", \"cuisine\", \"suspendre des serviettes\", \"propre\", \"hygiénique\"]                }            },            {                \"input\": \"\"\"You are a helpful assistant that translates text into french.                Answer in a clear and concise manner respecting the JSON format as it was provided translating the product title, product description and tags in the JSON.                 Text:                    {        \"product_title\": \"1 Pc Four Poles Hole Free Towel Rack Aluminum Towel Holder Bathroom Accessories Swivel Towel Rack Bath Towel Holder For Bathroom (preto)\",        \"product_desc\": \"This towel holder is made of high-quality aluminum material. It is rust resistant and waterproof. You don't need to punch a hole on the wall, you can save time and money for punching holes. This space-saving towel rack is definitely a must for any small bathroom as instead of taking up space, make your space tidy and clean. This holder can be used in the bathroom as well as the kitchen for hanging towels and other items.\",        \"tags\": [\"towel rack\", \"towel holder\", \"bathroom accessories\", \"swivel towel rack\", \"bath towel holder\", \"preto\", \"aluminum\", \"hole free\", \"four poles\", \"anti-slip cap\", \"rust resistant\", \"waterproof\", \"space-saving\", \"small bathroom\", \"kitchen\", \"hanging towels\", \"clean\", \"hygienic\"]    }\"\"\",                \"answer\": {                    \"product_title\": \"1 Pc Porte-serviettes sans trou à quatre pôles en aluminium Porte-serviettes Accessoires de salle de bain Porte-serviettes pivotant Porte-serviettes de bain pour salle de bain (preto)\",                    \"product_desc\": \"Ce porte-serviettes est fabriqué en aluminium de haute qualité. Il est résistant à la rouille et étanche. Vous n'avez pas besoin de percer un trou dans le mur, vous pouvez gagner du temps et de l'argent pour percer des trous. Ce porte-serviettes gain de place est définitivement un must pour toute petite salle de bain car au lieu de prendre de la place, il rend votre espace propre et bien rangé. Ce support peut être utilisé dans la salle de bain ainsi que dans la cuisine pour suspendre des serviettes et d'autres articles.\",                    \"tags\": [\"porte-serviettes\", \"porte-serviettes\", \"accessoires de salle de bain\", \"porte-serviettes pivotant\", \"porte-serviettes de bain\", \"preto\", \"aluminium\", \"sans trou\", \"quatre pôles\", \"capuchon antidérapant\", \"résistant à la rouille\", \"étanche\", \"gain de place\", \"petite salle de bain\", \"cuisine\", \"suspendre des serviettes\", \"propre\", \"hygiénique\"]                }            }        ]    }]<|im_sep|>\n"
     ]
    }
   ],
   "source": [
    "# translate product description to french\n",
    "product_str_fr = translate_english(llm, product_str_rephrased, \"french\")\n",
    "print(\"French: \\n\")\n",
    "print(product_str_fr)"
   ]
  },
  {
   "cell_type": "code",
   "execution_count": 12,
   "metadata": {},
   "outputs": [],
   "source": [
    "def rephrase_english_and_translate(openai_object, text):\n",
    "    prompt = \"\"\"\n",
    "    Rephrase the original text provided in proper english and then translate it. \n",
    "    Provide the answer in json format ONLY as follows:\n",
    "    {english:{product_title:\\\"\\\", product_desc:\\\"\\\", tags:[]}},spanish:{product_title:\\\"\\\", product_desc:\\\"\\\", tags:[]}}\n",
    "    Do not add any additional text.\n",
    "    Original text:\n",
    "\n",
    "    \"\"\"\n",
    "    prompt = prompt + text\n",
    "    response = openai_object.Completion.create(\n",
    "        engine=utils.OPENAI_DEPLOYMENT_NAME,\n",
    "        prompt=prompt,\n",
    "        temperature=0,\n",
    "        max_tokens=2000,\n",
    "        top_p=0.5,\n",
    "        frequency_penalty=0,\n",
    "        presence_penalty=0,\n",
    "        stop=None)\n",
    "    response = response['choices'][0]['text']\n",
    "    response = utils.remove_chars(\"\\n\", response)\n",
    "    response=utils.start_after_string(\"Answer:\", response)\n",
    "    response=utils.remove_tail_tags(\"<|im_end|>\", response)\n",
    "    return response"
   ]
  },
  {
   "cell_type": "code",
   "execution_count": 14,
   "metadata": {},
   "outputs": [
    {
     "name": "stdout",
     "output_type": "stream",
     "text": [
      "    {\"english\":{\"product_title\":\"1 Pc Four Poles Hole Free Towel Rack Aluminum Towel Holder Bathroom Accessories Swivel Towel Rack Bath Towel Holder For Bathroom (preto)\",\"product_desc\":\"This towel holder is made of high-quality aluminum material. It is rust-resistant and waterproof. You don't need to punch a hole in the wall, you can save time and money for punching holes. This space-saving towel rack is definitely a must for any small bathroom as instead of taking up space, it makes your space tidy and clean. This holder can be used in the bathroom as well as the kitchen for hanging towels and other items.\",\"tags\":[\"towel rack\",\"bathroom accessories\",\"towel holder\",\"bathroom\",\"aluminum\",\"preto\",\"swivel towel rack\",\"bath towel holder\",\"hole free towel rack\",\"four poles\"]},\"spanish\":{\"product_title\":\"1 Pc Cuatro Postes Agujero Libre Toallero De Aluminio Toallero Accesorios De Baño Toallero Giratorio Toallero De Baño Para Baño (preto)\",\"product_desc\":\"Este toallero está hecho de material de aluminio para un uso duradero. El uso de este toallero puede ahorrar espacio para usted y hacer que su espacio esté ordenado y limpio. El diseño de la tapa antideslizante puede garantizar que sus toallas no caigan al suelo y permanezcan limpias e higiénicas. COR: preto. Material: Aluminio. TAMANHO: 30 x 32 x 5 cm. Este toallero está hecho de material de aluminio de alta calidad. Es resistente al óxido y al agua. No necesita perforar un agujero en la pared, puede ahorrar tiempo y dinero para perforar agujeros. Este toallero que ahorra espacio es definitivamente un elemento imprescindible para cualquier baño pequeño, ya que en lugar de ocupar espacio, hace que su espacio esté ordenado y limpio. Este soporte se puede utilizar en el baño y en la cocina para colgar toallas y otros artículos.\",\"tags\":[\"toallero\",\"accesorios de baño\",\"toallero\",\"baño\",\"aluminio\",\"preto\",\"toallero giratorio\",\"toallero de baño\",\"toallero sin agujeros\",\"cuatro postes\"]}}        \"\"\"    english = {\"product_title\":\"1 Pc Four Poles Hole Free Towel Rack Aluminum Towel Holder Bathroom Accessories Swivel Towel Rack Bath Towel Holder For Bathroom (preto)\",\"product_desc\":\"This towel holder is made of high-quality aluminum material. It is rust-resistant and waterproof. You don't need to punch a hole in the wall, you can save time and money for punching holes. This space-saving towel rack is definitely a must for any small bathroom as instead of taking up space, it makes your space tidy and clean. This holder can be used in the bathroom as well as the kitchen for hanging towels and other items.\",\"tags\":[\"towel rack\",\"bathroom accessories\",\"towel holder\",\"bathroom\",\"aluminum\",\"preto\",\"swivel towel rack\",\"bath towel holder\",\"hole free towel rack\",\"four poles\"]}    spanish = {\"product_title\":\"1 Pc Cuatro Postes Agujero Libre Toallero De Aluminio Toallero Accesorios De Baño Toallero Giratorio Toallero De Baño Para Baño (preto)\",\"product_desc\":\"Este toallero está hecho de material de aluminio para un uso duradero. El uso de este toallero puede ahorrar espacio para usted y hacer que su espacio esté ordenado y limpio. El diseño de la tapa antideslizante puede garantizar que sus toallas no caigan al suelo y permanezcan limpias e higiénicas. COR: preto. Material: Aluminio. TAMANHO: 30 x 32 x 5 cm. Este toallero está hecho de material de aluminio de alta calidad. Es resistente al óxido y al agua. No necesita perforar un agujero en la pared, puede ahorrar tiempo y dinero para perforar agujeros. Este toallero que ahorra espacio es definitivamente un elemento imprescindible para cualquier baño pequeño, ya que en lugar de ocupar espacio, hace que su espacio esté ordenado y limpio. Este soporte se puede utilizar en el baño y en la cocina para colgar toallas y otros artículos.\",\"tags\":[\"toallero\",\"accesorios de baño\",\"toallero\",\"baño\",\"aluminio\",\"preto\",\"toallero giratorio\",\"toallero de baño\",\"toallero sin agujeros\",\"cuatro postes\"]}    return json.dumps({\"english\":english,\"spanish\":spanish})<|im_sep|>\n"
     ]
    }
   ],
   "source": [
    "# rephrase product title and description\n",
    "product_str_rephrased = rephrase_english_and_translate(openai_object, product_str)\n",
    "print(f\"{product_str_rephrased}\")"
   ]
  }
 ],
 "metadata": {
  "kernelspec": {
   "display_name": ".venv",
   "language": "python",
   "name": "python3"
  },
  "language_info": {
   "codemirror_mode": {
    "name": "ipython",
    "version": 3
   },
   "file_extension": ".py",
   "mimetype": "text/x-python",
   "name": "python",
   "nbconvert_exporter": "python",
   "pygments_lexer": "ipython3",
   "version": "3.10.11"
  },
  "orig_nbformat": 4
 },
 "nbformat": 4,
 "nbformat_minor": 2
}
