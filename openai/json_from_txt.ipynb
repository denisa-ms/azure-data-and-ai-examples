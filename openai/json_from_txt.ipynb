{
 "cells": [
  {
   "attachments": {},
   "cell_type": "markdown",
   "metadata": {},
   "source": [
    "### DESCRIPTION:\n",
    "    This example shows how to extract information in a pre-defined JSON format from employees' CVs using GPT3.5  \n",
    "    The JSON format we will be using can be found here:   \n",
    "        https://github.com/denisa-ms/azure-data-and-ai-examples/blob/master/openai/data/CV/expected_format.json\n",
    "\n",
    "### REQUIREMENTS:\n",
    "    Create an .env file with your OpenAI API key and save it in the root directory of this project.\n"
   ]
  },
  {
   "cell_type": "code",
   "execution_count": 1,
   "metadata": {},
   "outputs": [],
   "source": [
    "from dotenv import load_dotenv\n",
    "import pandas as pd\n",
    "import utils\n",
    "import openai\n",
    "import json \n",
    "from langchain.text_splitter import TokenTextSplitter\n",
    "from langchain.document_loaders import TextLoader\n",
    "from langchain.document_loaders import DirectoryLoader\n",
    "\n",
    "load_dotenv()\n",
    "openai_object = utils.init_OpenAI()\n",
    "llm = utils.init_llm()"
   ]
  },
  {
   "cell_type": "code",
   "execution_count": 3,
   "metadata": {},
   "outputs": [],
   "source": [
    "def cleanUpJsonString(text):\n",
    "    # replace \"\\n\" with \"\" \n",
    "    text = text.replace(\"\\n\", \"\")\n",
    "    return text\n",
    "\n",
    "def validateJSON(text):\n",
    "    result = json.loads(text)\n",
    "    return result\n",
    "\n",
    "\n",
    "def read_file(file_name):\n",
    "    path = \"./data/CV/\"+file_name\n",
    "    with open(path, \"r\") as f:\n",
    "        text = f.read()\n",
    "    return text"
   ]
  },
  {
   "cell_type": "code",
   "execution_count": 4,
   "metadata": {},
   "outputs": [],
   "source": [
    "text = read_file(\"expected_format.json\")\n",
    "json_escaped = json.dumps(text)"
   ]
  },
  {
   "cell_type": "code",
   "execution_count": 8,
   "metadata": {},
   "outputs": [],
   "source": [
    "def classifyDocument(file_name):\n",
    "    document = read_file(file_name)\n",
    "    prompt = \"\"\"<|im_start|>system\n",
    "    You are an assistant designed to extract entities from text. Users will input text and you will respond with entities you\\'ve extracted from the text as a JSON object. \n",
    "    If there are entities you can extract but are not specified in the JSON object, you should add them to the JSON object in the other_info field as key value pairs with the info type and value.\n",
    "    Here\\'s an example of your output format:\"\"\"+json_escaped\n",
    "    prompt = prompt + \"\"\"\n",
    "    <|im_end|>\n",
    "    <|im_start|>user\n",
    "    \"\"\"\n",
    "    prompt = prompt + document + \"\"\"<|im_end|>\n",
    "    <|im_start|>assistant\"\"\"\n",
    "\n",
    "    response = openai.Completion.create(\n",
    "        engine=utils.OPENAI_DEPLOYMENT_NAME,\n",
    "        prompt=prompt,\n",
    "        temperature=0,\n",
    "        max_tokens=4096,\n",
    "        top_p=0.95,\n",
    "        frequency_penalty=0,\n",
    "        presence_penalty=0,\n",
    "        stop=[\"<|im_end|>\"])\n",
    "    response = response['choices'][0]['text']\n",
    "    response = utils.remove_chars(\"\\n\", response)\n",
    "    response=utils.start_after_string(\"Answer:\", response)\n",
    "    response=utils.remove_tail_tags(\"<|im_end|>\", response)\n",
    "    return response"
   ]
  },
  {
   "cell_type": "code",
   "execution_count": 9,
   "metadata": {},
   "outputs": [
    {
     "name": "stdout",
     "output_type": "stream",
     "text": [
      "{\n",
      "  \"person_name\": \"Jordan Zhu\",\n",
      "  \"email\": \"\",\n",
      "  \"phone\": \"\",\n",
      "  \"address\": \"\",\n",
      "  \"linkedin_profile\": \"linkedin.com/in/jordanzhu\",\n",
      "  \"education\": [\n",
      "    {\n",
      "      \"university\": \"University of Michigan\",\n",
      "      \"degree\": \"B.S.E. in Computer Science\",\n",
      "      \"start_date\": \"Sep 2014\",\n",
      "      \"end_date\": \"Dec 2018\"\n",
      "    },\n",
      "    {\n",
      "      \"university\": \"Coursera\",\n",
      "      \"degree\": \"Machine Learning Specialization (3 courses)\",\n",
      "      \"start_date\": \"Nov 2022\",\n",
      "      \"end_date\": \"Jan 2023\"\n",
      "    }\n",
      "  ],\n",
      "  \"work_experience\": [\n",
      "    {\n",
      "      \"company\": \"Stripe\",\n",
      "      \"position\": \"Solutions Architect\",\n",
      "      \"start_date\": \"Jun 2021\",\n",
      "      \"end_date\": \"Nov 2022\"\n",
      "    },\n",
      "    {\n",
      "      \"company\": \"Amazon\",\n",
      "      \"position\": \"Software Engineer\",\n",
      "      \"start_date\": \"Mar 2019\",\n",
      "      \"end_date\": \"Apr 2021\"\n",
      "    }\n",
      "  ],\n",
      "  \"other_info\": [\n",
      "    {\n",
      "      \"info_type\": \"Skills\",\n",
      "      \"value\": \"AWS, Python, C++, Java, SQL, React, Node.js, Javascript, HTML, CSS, Ruby\"\n",
      "    }\n",
      "  ]\n",
      "}\n"
     ]
    }
   ],
   "source": [
    "utils.pretty_print_json_string(classifyDocument(\"cv1.txt\"))"
   ]
  },
  {
   "cell_type": "code",
   "execution_count": 10,
   "metadata": {},
   "outputs": [
    {
     "name": "stdout",
     "output_type": "stream",
     "text": [
      "{\n",
      "  \"person_name\": \"Christopher L. Hall\",\n",
      "  \"email\": \"christopher.hall@gmail.com\",\n",
      "  \"phone\": \"(951) 756-5600\",\n",
      "  \"address\": \"\",\n",
      "  \"linkedin_profile\": \"linkedin.com/in/christopherhall\",\n",
      "  \"education\": [\n",
      "    {\n",
      "      \"university\": \"Stanford University\",\n",
      "      \"degree\": \"Bachelor of Science in Computer Science\",\n",
      "      \"start_date\": \"\",\n",
      "      \"end_date\": \"2014\"\n",
      "    }\n",
      "  ],\n",
      "  \"work_experience\": [\n",
      "    {\n",
      "      \"company\": \"Jamma Technologies\",\n",
      "      \"position\": \"Cloud Solution Architect\",\n",
      "      \"start_date\": \"May 2017\",\n",
      "      \"end_date\": \"July 2019\"\n",
      "    },\n",
      "    {\n",
      "      \"company\": \"Leesing Square Capital Group\",\n",
      "      \"position\": \"Enterprise Solution Architect\",\n",
      "      \"start_date\": \"February 2015\",\n",
      "      \"end_date\": \"May 2017\"\n",
      "    }\n",
      "  ],\n",
      "  \"other_info\": [\n",
      "    {\n",
      "      \"info_type\": \"Summary of Qualifications\",\n",
      "      \"value\": \"AWS-certified big data solution architect with 4+ years of experience driving information management strategy. Seeking to leverage high-level understanding of Amazon Web Services global infrastructure and service migrations to become the senior solution architect at Atlassian.\"\n",
      "    },\n",
      "    {\n",
      "      \"info_type\": \"Key Qualifications & Responsibilities\",\n",
      "      \"value\": \"Designed and edited blueprints for IT infrastructure and networking architecture according to management\\u00e2\\u20ac\\u2122s demands. Monitored existing infrastructure and architectural frameworks for performance, and made changes and updates when necessary. Kept up to date with latest industry knowledge and news to maintain and improve enterprise and business platforms. Communicated target architectural plans and company roadmaps across all departments.\"\n",
      "    },\n",
      "    {\n",
      "      \"info_type\": \"Key Achievements\",\n",
      "      \"value\": \"Strategized, designed, and deployed innovative and complete cloud data security architecture for 15 Fortune 500 companies.\"\n",
      "    },\n",
      "    {\n",
      "      \"info_type\": \"Relevant Coursework\",\n",
      "      \"value\": \"Business Architecture Elements, Enterprise Architecture, Infrastructure Architecture, Software Architecture, IT Project Management, Cloud Management Solutions, Network Infrastructure, Cloud Security, Fundamentals of Enterprise Solutions Architecture.\"\n",
      "    },\n",
      "    {\n",
      "      \"info_type\": \"Key Skills\",\n",
      "      \"value\": \"Authentication systems, System, platform, and account migrations, Data and cloud security, AWS cloud infrastructure, Virtual environment design and implementation.\"\n",
      "    },\n",
      "    {\n",
      "      \"info_type\": \"Certifications\",\n",
      "      \"value\": \"AWS Certified Solutions Architect \\u00e2\\u20ac\\u201d Professional, Google Cloud Certified \\u00e2\\u20ac\\u201d Professional Cloud Architect, Open Group Certified Architect (Open CA), IASA Certified IT Architect Professional (CITA-P).\"\n",
      "    },\n",
      "    {\n",
      "      \"info_type\": \"Memberships\",\n",
      "      \"value\": \"International Association for Solution Architecture (IASA), The Association of Enterprise Architects (AEA).\"\n",
      "    },\n",
      "    {\n",
      "      \"info_type\": \"Languages\",\n",
      "      \"value\": \"Portuguese (Portugal): Professional Working Proficiency\"\n",
      "    }\n",
      "  ]\n",
      "}\n"
     ]
    }
   ],
   "source": [
    "utils.pretty_print_json_string(classifyDocument(\"cv17.txt\"))"
   ]
  }
 ],
 "metadata": {
  "kernelspec": {
   "display_name": ".venv",
   "language": "python",
   "name": "python3"
  },
  "language_info": {
   "codemirror_mode": {
    "name": "ipython",
    "version": 3
   },
   "file_extension": ".py",
   "mimetype": "text/x-python",
   "name": "python",
   "nbconvert_exporter": "python",
   "pygments_lexer": "ipython3",
   "version": "3.10.11"
  },
  "orig_nbformat": 4
 },
 "nbformat": 4,
 "nbformat_minor": 2
}
