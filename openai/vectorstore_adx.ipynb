{
 "cells": [
  {
   "attachments": {},
   "cell_type": "markdown",
   "metadata": {},
   "source": [
    "### *Use OpenAI with your Data* \n",
    "### DESCRIPTION\n",
    "Load tens of thousands of Wikipedia articles into Azure Data Explorer.\n",
    "Harness its sub milisecond query capabilities to search your data and combine this with OpenAI to generate a response with Retrieval Augmented Generation pattern.\n",
    "Use Azure Data Explorer vector store capabilities with embeddings together with GPT3.5 to generate answers.  \n",
    "\n",
    "\n",
    "### PREPARATION\n",
    "* An ADX (Azure Data Explorer or Kusto) cluster  \n",
    "* In ADX, create a Database named \"openai\"  \n",
    "    <img src=\"images/1.png\" alt=\"Create Kusto cluster\" /> \n",
    "* Create a table called wikipedia by ingesting data from \"./data/wikipedia/vector_database_wikipedia_articles_embedded_1000.csv\"   \n",
    "    <img src=\"images/2.png\" alt=\"Create Kusto cluster\" /> \n",
    "* Create an AAD app registration for Authentication - see below   \n",
    "    [Create an Azure Active Directory application registration in Azure Data Explorer](https://learn.microsoft.com/en-us/azure/data-explorer/provision-azure-ad-app)\n",
    "\n",
    "* You need to add ADX function as follows:   \n",
    "     Run this on ADX Explorer UI  \n",
    "     \n",
    "```\n",
    "//create the cosine similarity function for embeddings\n",
    ".create-or-alter function with (folder = \"Packages\\\\Series\", docstring = \"Calculate the Cosine similarity of 2 numerical arrays\")\n",
    "series_cosine_similarity_fl(vec1:dynamic, vec2:dynamic, vec1_size:real=double(null), vec2_size:real=double(null))\n",
    "{\n",
    "    let dp = series_dot_product(vec1, vec2);\n",
    "    let v1l = iff(isnull(vec1_size), sqrt(series_dot_product(vec1, vec1)), vec1_size);\n",
    "    let v2l = iff(isnull(vec2_size), sqrt(series_dot_product(vec2, vec2)), vec2_size);\n",
    "    dp/(v1l*v2l)\n",
    "}\n",
    "```"
   ]
  },
  {
   "cell_type": "code",
   "execution_count": 2,
   "metadata": {},
   "outputs": [
    {
     "data": {
      "text/plain": [
       "OpenAIEmbeddings(client=<class 'openai.api_resources.embedding.Embedding'>, model='text-embedding-ada-002', deployment='text-embedding-ada-002', openai_api_version=None, openai_api_base=None, openai_api_type=None, openai_proxy=None, embedding_ctx_length=8191, openai_api_key=None, openai_organization=None, allowed_special=set(), disallowed_special='all', chunk_size=1, max_retries=6, request_timeout=None, headers=None)"
      ]
     },
     "execution_count": 2,
     "metadata": {},
     "output_type": "execute_result"
    }
   ],
   "source": [
    "import pandas as pd\n",
    "from azure.kusto.data import KustoClient, KustoConnectionStringBuilder\n",
    "from azure.kusto.data.exceptions import KustoServiceError\n",
    "from azure.kusto.data.helpers import dataframe_from_result_table\n",
    "import pandas as pd\n",
    "from ast import literal_eval\n",
    "import utils\n",
    "import os\n",
    "from openai.embeddings_utils import get_embedding\n",
    "from tenacity import retry, wait_random_exponential, stop_after_attempt\n",
    "\n",
    "openai_llm = utils.init_OpenAI()\n",
    "utils.init_embeddings()"
   ]
  },
  {
   "cell_type": "code",
   "execution_count": 3,
   "metadata": {},
   "outputs": [],
   "source": [
    "# Connect to adx using AAD app registration\n",
    "cluster = utils.KUSTO_CLUSTER\n",
    "kcsb = KustoConnectionStringBuilder.with_aad_application_key_authentication(cluster, utils.KUSTO_MANAGED_IDENTITY_APP_ID, utils.KUSTO_MANAGED_IDENTITY_SECRET,  utils.AAD_TENANT_ID)\n",
    "client = KustoClient(kcsb)"
   ]
  },
  {
   "cell_type": "code",
   "execution_count": 5,
   "metadata": {},
   "outputs": [
    {
     "name": "stdout",
     "output_type": "stream",
     "text": [
      "EventType:April\n",
      "EventType:August\n",
      "EventType:Art\n",
      "EventType:A\n",
      "EventType:Air\n",
      "EventType:Autonomous communities of Spain\n",
      "EventType:Alan Turing\n",
      "EventType:Alanis Morissette\n",
      "EventType:Adobe Illustrator\n",
      "EventType:Andouille\n"
     ]
    }
   ],
   "source": [
    "#testing the connection to kusto works - sample query to get the top 10 results from wikipedia\n",
    "query = \"wikipedia | take 10\"\n",
    "\n",
    "response = client.execute(utils.KUSTO_DATABASE, query)\n",
    "for row in response.primary_results[0]:\n",
    "    print(\"EventType:{}\".format(row[\"title\"]))"
   ]
  },
  {
   "cell_type": "code",
   "execution_count": 6,
   "metadata": {},
   "outputs": [],
   "source": [
    "@retry(wait=wait_random_exponential(min=1, max=20), stop=stop_after_attempt(6))\n",
    "def embed(query):\n",
    "        return get_embedding(query, engine=utils.OPENAI_ADA_EMBEDDING_MODEL_NAME)\n",
    "\n",
    "def get_answer(question, nr_of_answers=1):\n",
    "        searchedEmbedding = embed(question)\n",
    "        # get the top 3 most similar articles\n",
    "        kusto_query = \"wikipedia | extend similarity = series_cosine_similarity_fl(dynamic(\"+str(searchedEmbedding)+\"), content_vector,1,1) | top \" + str(nr_of_answers) + \" by similarity desc \"\n",
    "        response = client.execute(utils.KUSTO_DATABASE, kusto_query)\n",
    "        return response\n",
    "\n",
    "def ask_question(question, nr_of_answers=1):\n",
    "        response = get_answer(question)\n",
    "\n",
    "        for row in response.primary_results[0]:\n",
    "                print(\"=====================================\")\n",
    "                print(f\"Title:{row['title']} \\n\")\n",
    "                print(f\"Content:{row['text']} \\n\")\n"
   ]
  },
  {
   "cell_type": "code",
   "execution_count": 7,
   "metadata": {},
   "outputs": [
    {
     "name": "stdout",
     "output_type": "stream",
     "text": [
      "=====================================\n",
      "Title:Argentina \n",
      "\n",
      "Content:Argentina (officially the Argentine Republic)  is a country in South America. Argentina is the second-largest country in South America and the eighth-largest country in the world.\n",
      "\n",
      "Spanish is the most spoken language, and the official language, but many other languages are spoken. There are minorities speaking Italian, German, English, Quechua and even Welsh in Patagonia.\n",
      "\n",
      "In eastern Argentina is Buenos Aires, the capital of Argentina, it is also one of the largest cities in the world. In order by number of people, the largest cities in Argentina are Buenos Aires, Córdoba, Rosario, Mendoza, La Plata, Tucumán, Mar del Plata,  Salta, Santa Fe, and Bahía Blanca.\n",
      "\n",
      "Argentina is between the Andes mountain range in the west and the southern Atlantic Ocean in the east and south. It is bordered by Paraguay and Bolivia in the north, Brazil and Uruguay in the northeast, and Chile in the west and south. It also claims the Falkland Islands (Spanish: Islas Malvinas) and South Georgia and the South Sandwich Islands.  Most citizens of the Argentine Republic are descendants of immigrants from Europe.  They are united by citizenship and not necessarily by ethnicity. Most Argentinians embrace both their ethnic origins and Argentinian nationality.\n",
      "\n",
      "History \n",
      "The name Argentina comes from the Latin argentum (silver) as the Spanish conquistadors believed the area had silver. In the Americas (South and North), Canada, US, Brazil and Argentina are the largest countries (in that order).\n",
      "\n",
      "The oldest signs of people in Argentina are in the Patagonia (Piedra Museo, Santa Cruz), and are more than 13,000 years old. In 1480 the Inca Empire conquered northwestern Argentina, making it part of the empire. In the northeastern area, the Guaraní developed a culture based on yuca and sweet potato however typical dishes all around Argentina are pasta, red wines (Italian influence) and beef.\n",
      "\n",
      "Other languages spoken are Italian, English and German. Lunfardo is Argentinean slang and is a mix of Spanish and Italian. Argentinians are said to speak Spanish with an Italian accent.\n",
      "\n",
      "Argentina declared independent from Spain in 1816, and achieved it in a War led by José de San Martín in 1818. Many immigrants from Europe came to the country. By the 1920s it was the 7th wealthiest country in the world, but it began a decline after this. In the 1940s, following the \"infamous decade\" where the country's politics were not stable, Juan Peron came to power. Peron was one of the most important people in the country's history and many politicians today call themselves Peronist. Peron was forced out of power in 1955. After spending years in exile he returned to power in the 1970s.\n",
      "\n",
      "In 1976, the country was falling into chaos, and the military took power. This was not the first time the military had done this. Leading the new government was Jorge Rafael Videla. Videla was one of history's most brutal dictators. Thousands of people disappeared or were killed during his time as president. Videla retired in 1980.\n",
      "\n",
      "One of his successors was another general turned dictator, Leopoldo Galtieri. By the time Galtieri was in office in 1981 the dictatorship became unpopular. To stir up support, Galtieri ordered an invasion of the Falkland Islands, starting the Falklands War.  Argentina lost the war, and soon the country fell into chaos again. Galtieri was removed from power and eventually democracy was restored. Galtieri and Videla would be charged with \"crimes against humanity\" because of the mass murder and other crimes that they ordered as president.\n",
      "\n",
      "In the early 21st century Argentina is one of the most important countries in Latin America, though it still has many problems. It has a large economy and is influential in the \"southern cone\" of South America and a member of the G20 developing nations.\n",
      "\n",
      "Politics \n",
      "Argentina is a federal republic. The people of Argentina vote for a President to rule them and Senators and Deputies to speak for them and make laws for them. The President is Alberto Fernández since December 2019.\n",
      "\n",
      "Administrative divisions \n",
      "\n",
      "Argentina is divided into 23 provinces (provincias; singular: provincia), and 1 city (commonly known as capital federal):\n",
      "\n",
      "Geography \n",
      "\n",
      "Argentina is almost 3,700 km long from north to south, and 1,400 km from east to west (maximum values). It can be divided into three parts: the Pampas in the central part of the country, Patagonia in the southern part down to Tierra del Fuego; and the Andes mountain range along the western border with Chile, with the highest point in the province of Mendoza. Cerro Aconcagua, at 6,960 metres (22,834 ft), is the Americas' highest mountain.\n",
      "\n",
      "The most important rivers include the River Plate, Paraguay, Bermejo, Colorado, Uruguay and the largest river, the Paraná. River Plate was incorrectly translated though, and should have been translated to English as River of (the) Silver. River Plate is also a famous Buenos Aires soccer team.\n",
      "\n",
      "See List of cities in Argentina for the many places people live in Argentina.\n",
      "\n",
      "Other information \n",
      "The majority of the Argentineans are descendants of Europeans mainly from Spain, Italy, Germany, Ireland, France, other Europeans countries and Mestizo representing more than 90% of the total population of the country. More than 300,000 Roma gypsies live in Argentina. Since the 1990s, Romanian, Brazilian and Colombian gypsies arrived in Argentina.\n",
      "\n",
      "Football or soccer is the most popular sport, although the national sport of the country is Pato. Argentina has a number of highly ranked Polo players. Field hockey (for women) rugby and golf are also favorites.\n",
      "\n",
      "Argentina is a Christian country. Most of Argentina's people (80 percent) are Roman Catholic. Argentina also has the largest population of Jewish community after Israel and US. Middle Eastern immigrants who were Muslims converted to Catholicism, but there are still Muslims as well.\n",
      "\n",
      "Medicine is socialized and so is education, making Argentina's literacy rate about 98%. State University is free as well.\n",
      "\n",
      "Related pages\n",
      "Argentina at the Olympics\n",
      "Argentina national football team\n",
      "List of rivers of Argentina\n",
      "\n",
      "References \n",
      "\n",
      " General information and maps\n",
      " Geography and tourism\n",
      " Pictures from Argentina grouped by provincia\n",
      "\n",
      "Other websites \n",
      "\n",
      " Argentina.gov.ar - Official national portal\n",
      " Gobierno Electrónico  - Official government website\n",
      " Presidencia de la Nación  - Official presidential website\n",
      " Honorable Senado de la Nación - Official senatorial website\n",
      " Honorable Cámara de Diputados de la Nación - Official lower house website\n",
      " Secretaría de Turismo de la Nación - Official tourism board website\n",
      "\n",
      " \n",
      "Spanish-speaking countries \n",
      "\n"
     ]
    }
   ],
   "source": [
    "ask_question(\"What is the size of Argentina?\",1)"
   ]
  },
  {
   "cell_type": "code",
   "execution_count": 8,
   "metadata": {},
   "outputs": [],
   "source": [
    "def ask_gpt(text, question):\n",
    "    prompt = \"\"\"You are a helpful assistant that answers questions.\n",
    "                Answer in a clear and concise manner providing answers only from the text below. If the answer is not in the text, please answer with \"I don't know\".\n",
    "                Text:\n",
    "\n",
    "                \"\"\"\n",
    "    question_prompt = \"\"\"\"\n",
    "                Question:\n",
    "                \"\"\"\n",
    "    prompt = prompt + text + question_prompt + question\n",
    "    response = openai_llm.Completion.create(\n",
    "        engine=utils.OPENAI_DEPLOYMENT_NAME,\n",
    "        prompt=prompt,\n",
    "        temperature=0,\n",
    "        max_tokens=2000,\n",
    "        top_p=0.5,\n",
    "        frequency_penalty=0,\n",
    "        presence_penalty=0,\n",
    "        stop=None)\n",
    "    response = response['choices'][0]['text']\n",
    "    response = utils.remove_chars(\"\\n\", response)\n",
    "    response=utils.start_after_string(\"Answer:\", response)\n",
    "    response=utils.remove_tail_tags(\"<|im_end|>\", response)\n",
    "    return response"
   ]
  },
  {
   "cell_type": "code",
   "execution_count": 9,
   "metadata": {},
   "outputs": [
    {
     "data": {
      "text/plain": [
       "'\"\"\",                \"\"\"Argentina is the second-largest country in South America and the eighth-largest country in the world.\"\"\",                \"\"\"Argentina is the second-largest country in South America and the eighth-largest country in the world.\"\"\",                \"\"\"Argentina is the second-largest country in South America and the eighth-largest country in the world.\"\"\",                \"\"\"Argentina is the second-largest country in South America and the eighth-largest country in the world.\"\"\",                \"\"\"Argentina is the second-largest country in South America and the eighth-largest country in the world.\"\"\",                \"\"\"Argentina is the second-largest country in South America and the eighth-largest country in the world.\"\"\",                \"\"\"Argentina is the second-largest country in South America and the eighth-largest country in the world.\"\"\",                \"\"\"Argentina is the second-largest country in South America and the eighth-largest country in the world.\"\"\",                \"\"\"Argentina is the second-largest country in South America and the eighth-largest country in the world.\"\"\",                \"\"\"Argentina is the second-largest country in South America and the eighth-largest country in the world.\"\"\",                \"\"\"Argentina is the second-largest country in South America and the eighth-largest country in the world.\"\"\",                \"\"\"Argentina is the second-largest country in South America and the eighth-largest country in the world.\"\"\",                \"\"\"Argentina is the second-largest country in South America and the eighth-largest country in the world.\"\"\",                \"\"\"Argentina is the second-largest country in South America and the eighth-largest country in the world.\"\"\",                \"\"\"Argentina is the second-largest country in South America and the eighth-largest country in the world.\"\"\",                \"\"\"Argentina is the second-largest country in South America and the eighth-largest country in the world.\"\"\",                \"\"\"Argentina is the second-largest country in South America and the eighth-largest country in the world.\"\"\",                \"\"\"Argentina is the second-largest country in South America and the eighth-largest country in the world.\"\"\",                \"\"\"Argentina is the second-largest country in South America and the eighth-largest country in the world.\"\"\",                \"\"\"Argentina is the second-largest country in South America and the eighth-largest country in the world.\"\"\",                \"\"\"Argentina is the second-largest country in South America and the eighth-largest country in the world.\"\"\",                \"\"\"Argentina is the second-largest country in South America and the eighth-largest country in the world.\"\"\",                \"\"\"Argentina is the second-largest country in South America and the eighth-largest country in the world.\"\"\",                \"\"\"Argentina is the second-largest country in South America and the eighth-largest country in the world.\"\"\",                \"\"\"Argentina is the second-largest country in South America and the eighth-largest country in the world.\"\"\",                \"\"\"Argentina is the second-largest country in South America and the eighth-largest country in the world.\"\"\",                \"\"\"Argentina is the second-largest country in South America and the eighth-largest country in the world.\"\"\",                \"\"\"Argentina is the second-largest country in South America and the eighth-largest country in the world.\"\"\",                \"\"\"Argentina is the second-largest country in South America and the eighth-largest country in the world.\"\"\",                \"\"\"Argentina is the second-largest country in South America and the eighth-largest country in the world.\"\"\",                \"\"\"Argentina is the second-largest country in South America and the eighth-largest country in the world.\"\"\",                \"\"\"Argentina is the second-largest country in South America and the eighth-largest country in the world.\"\"\",                \"\"\"Argentina is the second-largest country in South America and the eighth-largest country in the world.\"\"\",                \"\"\"Argentina is the second-largest country in South America and the eighth-largest country in the world.\"\"\",                \"\"\"Argentina is the second-largest country in South America and the eighth-largest country in the world.\"\"\",                \"\"\"Argentina is the second-largest country in South America and the eighth-largest country in the world.\"\"\",                \"\"\"Argentina is the second-largest country in South America and the eighth-largest country in the world.\"\"\",                \"\"\"Argentina is the second-largest country in South America and the eighth-largest country in the world.\"\"\",                \"\"\"Argentina is the second-largest country in South America and the eighth-largest country in the world.\"\"\",                \"\"\"Argentina is the second-largest country in South America and the eighth-largest country in the world.\"\"\",                \"\"\"Argentina is the second-largest country in South America and the eighth-largest country in the world.\"\"\",                \"\"\"Argentina is the second-largest country in South America and the eighth-largest country in the world.\"\"\",                \"\"\"Argentina is the second-largest country in South America and the eighth-largest country in the world.\"\"\",                \"\"\"Argentina is the second-largest country in South America and the eighth-largest country in the world.\"\"\",                \"\"\"Argentina is the second-largest country in South America and the eighth-largest country in the world.\"\"\",                \"\"\"Argentina is the second-largest country in South America and the eighth-largest country in the world.\"\"\",                \"\"\"Argentina is the second-largest country in South America and the eighth-largest country in the world.\"\"\",                \"\"\"Argentina is the second-largest country in South America and the eighth-largest country in the world.\"\"\",                \"\"\"Argentina is the second-largest country in South America and the eighth-largest country in the world.\"\"\",                \"\"\"Argentina is the second-largest country in South America and the eighth-largest country in the world.\"\"\",                \"\"\"Argentina is the second-largest country in South America and the eighth-largest country in the world.\"\"\",                \"\"\"Argentina is the second-largest country in South America and the eighth-largest country in the world.\"\"\",                \"\"\"Argentina is the second-largest country in South America and the eighth-largest country in the world.\"\"\",                \"\"\"Argentina is the second-largest country in South America and the eighth-largest country in the world.\"\"\",                \"\"\"Argentina is the second-largest country in South America and the eighth-largest country in the world.\"\"\",                \"\"\"Argentina is the second-largest country in South America and the eighth-largest country in the world.\"\"\",                \"\"\"Argentina is the second-largest country in South America and the eighth-largest country in the world.\"\"\",                \"\"\"Argentina is the second-largest country in South America and the eighth-largest country in the world.\"\"\",                \"\"\"Argentina is the second-largest country in South America and the eighth-largest country in the world.\"\"\",                \"\"\"Argentina is the second-largest country in South America and the eighth-largest country in the world.\"\"\",                \"\"\"Argentina is the second-largest country in South America and the eighth-largest country in the world.\"\"\",                \"\"\"Argentina is the second-largest country in South America and the eighth-largest country in the world.\"\"\",                \"\"\"Argentina is the second-largest country in South America and the eighth-largest country in the world.\"\"\",                \"\"\"Argentina is the second-largest country in South America and the eighth-largest country in the world.\"\"\",                \"\"\"Argentina is the second-largest country in South America and the eighth-largest country in the world.\"\"\",                \"\"\"Argentina is the second-largest country in South America and the eighth-largest country in the world.\"\"\",                \"\"\"Argentina is the second-largest country in South America and the eighth-largest country in the world.\"\"\",                \"\"\"Argentina is the second-largest country in South America and the eighth-largest country in the world.\"\"\",                \"\"\"Argentina is the second-largest country in South America and the eighth-largest country in the world.\"\"\",                \"\"\"Argentina is the second-largest country in South America and the eighth-largest country in the world.\"\"\",                \"\"\"Argentina is the second-largest country in South America and the eighth-largest country in the world.\"\"\",                \"\"\"Argentina is the second-largest country in South America and the eighth-largest country in the world.\"\"\",                \"\"\"Argentina is the second-largest country in South America and the eighth-largest country in the world.\"\"\",                \"\"\"Argentina is the second-largest country in South America and the eighth-largest country in the world.\"\"\",                \"\"\"Argentina is the second-largest country in South America and the eighth-largest country in the world.\"\"\",                \"\"\"Argentina is the second-largest country in South America and the eighth-largest country in the world.\"\"\",                \"\"\"Argentina is the second-largest country in South America and the eighth-largest country in the world.\"\"\",                \"\"\"Argentina is the second-largest country in South America and the eighth-largest country in the world.\"\"\",                \"\"\"Argentina is the second-largest country in South America and the eighth-largest country in the world.\"\"\",                \"\"\"Argentina is the second-largest country in South America and the eighth-largest country in the world.\"\"\",                \"\"\"Argentina is the second-largest country in South America and the eighth-largest country in the world.\"\"\",                \"\"\"Argentina is the second-largest country in South America and the eighth-largest country in the world.\"\"\",                \"\"\"Argentina is the second-largest country in South America and the eighth-largest country in the world.\"\"\",                \"\"\"Argentina is the second-largest country in South America and the eighth-largest country in the world.\"\"\",                \"\"\"Argentina is the second-largest country in South America and the eighth-largest country in the world.\"\"\",                \"\"\"Argentina is the second-largest country in South America and the eighth-largest country in the world.\"\"\",                \"\"\"Argentina is the second-largest country in South America and the eighth-largest country in the world.\"\"\",                \"\"\"Argentina is the second-largest country in South America and the eighth-largest country in the world.\"\"\",                \"\"\"Argentina is the second-largest country in South America and the eighth-largest country in the world.\"\"\",                \"\"\"Argentina is the second-largest country in South America and the eighth-largest country in the world.\"\"\",                \"\"\"Argentina is the second-largest country in South America and the eighth-largest country in the world.\"\"\",                \"\"\"Argentina is the second-largest country in South America and the eighth-largest country in the world.\"\"\",                \"\"\"Argentina is the second-largest country in South America and the eighth-largest country in the world.\"\"\",                \"\"\"Argentina is the second-largest country in South America and the eighth-largest country in the world.\"\"\",                \"\"\"Argentina is the second-largest country in South America and the eighth-largest country in the world.\"\"\",                \"\"\"Argentina is'"
      ]
     },
     "execution_count": 9,
     "metadata": {},
     "output_type": "execute_result"
    }
   ],
   "source": [
    "#get the relevant results from the Database\n",
    "answer = get_answer(\"What is the size of Argentina?\",1)\n",
    "text = answer.primary_results[0].rows[0]['text']\n",
    "#send the results to GPT to get a more concise answer\n",
    "ask_gpt(text, \"What is the size of Argentina?\")\n"
   ]
  },
  {
   "cell_type": "code",
   "execution_count": 10,
   "metadata": {},
   "outputs": [
    {
     "data": {
      "text/plain": [
       "'\"\"\",                \"\"\"Argentina is almost 3,700 km long from north to south, and 1,400 km from east to west (maximum values).\"\"\",                \"3,700 km long from north to south, and 1,400 km from east to west\"            ),            (                \"What is the name of the capital of Argentina?\",                \"In eastern Argentina is Buenos Aires, the capital of Argentina, it is also one of the largest cities in the world.\",                \"Buenos Aires\"            ),            (                \"What is the official language of Argentina?\",                \"Spanish is the most spoken language, and the official language, but many other languages are spoken. There are minorities speaking Italian, German, English, Quechua and even Welsh in Patagonia.\",                \"Spanish\"            ),            (                \"What is the highest mountain in the Americas?\",                \"Cerro Aconcagua, at 6,960 metres (22,834 ft), is the Americas\\' highest mountain.\",                \"Cerro Aconcagua\"            ),            (                \"What is the most popular sport in Argentina?\",                \"Football or soccer is the most popular sport, although the national sport of the country is Pato. Argentina has a number of highly ranked Polo players. Field hockey (for women) rugby and golf are also favorites.\",                \"Football or soccer\"            ),            (                \"What is the literacy rate in Argentina?\",                \"Medicine is socialized and so is education, making Argentina\\'s literacy rate about 98%. State University is free as well.\",                \"98%\"            ),            (                \"What is the name of the current President of Argentina?\",                \"The President is Alberto Fernández since December 2019.\",                \"Alberto Fernández\"            ),            (                \"What is the name of the river that was incorrectly translated to English as River Plate?\",                \"River Plate was incorrectly translated though, and should have been translated to English as River of (the) Silver. River Plate is also a famous Buenos Aires soccer team.\",                \"River Plate\"            ),            (                \"What is the name of the mountain range along the western border of Argentina?\",                \"Argentina is almost 3,700 km long from north to south, and 1,400 km from east to west (maximum values). It can be divided into three parts: the Pampas in the central part of the country, Patagonia in the southern part down to Tierra del Fuego; and the Andes mountain range along the western border with Chile, with the highest point in the province of Mendoza. Cerro Aconcagua, at 6,960 metres (22,834 ft), is the Americas\\' highest mountain.\",                \"Andes\"            ),            (                \"What is the name of the culture that developed in the northeastern area of Argentina based on yuca and sweet potato?\",                \"In the northeastern area, the Guaraní developed a culture based on yuca and sweet potato however typical dishes all around Argentina are pasta, red wines (Italian influence) and beef.\",                \"Guaraní\"            ),            (                \"What is the name of the dictator who was one of history\\'s most brutal dictators in Argentina?\",                \"One of his successors was another general turned dictator, Leopoldo Galtieri. By the time Galtieri was in office in 1981 the dictatorship became unpopular. To stir up support, Galtieri ordered an invasion of the Falkland Islands, starting the Falklands War.  Argentina lost the war, and soon the country fell into chaos again. Galtieri was removed from power and eventually democracy was restored. Galtieri and Videla would be charged with \\\\\"crimes against humanity\\\\\" '"
      ]
     },
     "execution_count": 10,
     "metadata": {},
     "output_type": "execute_result"
    }
   ],
   "source": [
    "ask_gpt(text, \"What is the size of Argentina in km?\")"
   ]
  },
  {
   "cell_type": "code",
   "execution_count": 11,
   "metadata": {},
   "outputs": [
    {
     "data": {
      "text/plain": [
       "'\"\"\",                \"\"\"I don\\'t know\"\"\"            ),            (                \"\"\"You are a helpful assistant that answers questions.                Answer in a clear and concise manner providing answers only from the text below. If the answer is not in the text, please answer with \"I don\\'t know\".                Text:                Argentina (officially the Argentine Republic)  is a country in South America. Argentina is the second-largest country in South America and the eighth-largest country in the world.Spanish is the most spoken language, and the official language, but many other languages are spoken. There are minorities speaking Italian, German, English, Quechua and even Welsh in Patagonia.In eastern Argentina is Buenos Aires, the capital of Argentina, it is also one of the largest cities in the world. In order by number of people, the largest cities in Argentina are Buenos Aires, Córdoba, Rosario, Mendoza, La Plata, Tucumán, Mar del Plata,  Salta, Santa Fe, and Bahía Blanca.Argentina is between the Andes mountain range in the west and the southern Atlantic Ocean in the east and south. It is bordered by Paraguay and Bolivia in the north, Brazil and Uruguay in the northeast, and Chile in the west and south. It also claims the Falkland Islands (Spanish: Islas Malvinas) and South Georgia and the South Sandwich Islands.  Most citizens of the Argentine Republic are descendants of immigrants from Europe.  They are united by citizenship and not necessarily by ethnicity. Most Argentinians embrace both their ethnic origins and Argentinian nationality.History The name Argentina comes from the Latin argentum (silver) as the Spanish conquistadors believed the area had silver. In the Americas (South and North), Canada, US, Brazil and Argentina are the largest countries (in that order).The oldest signs of people in Argentina are in the Patagonia (Piedra Museo, Santa Cruz), and are more than 13,000 years old. In 1480 the Inca Empire conquered northwestern Argentina, making it part of the empire. In the northeastern area, the Guaraní developed a culture based on yuca and sweet potato however typical dishes all around Argentina are pasta, red wines (Italian influence) and beef.Other languages spoken are Italian, English and German. Lunfardo is Argentinean slang and is a mix of Spanish and Italian. Argentinians are said to speak Spanish with an Italian accent.Argentina declared independent from Spain in 1816, and achieved it in a War led by José de San Martín in 1818. Many immigrants from Europe came to the country. By the 1920s it was the 7th wealthiest country in the world, but it began a decline after this. In the 1940s, following the \"infamous decade\" where the country\\'s politics were not stable, Juan Peron came to power. Peron was one of the most important people in the country\\'s history and many politicians today call themselve'"
      ]
     },
     "execution_count": 11,
     "metadata": {},
     "output_type": "execute_result"
    }
   ],
   "source": [
    "ask_gpt(text, \"What is the sweetest fruit?\")"
   ]
  }
 ],
 "metadata": {
  "kernelspec": {
   "display_name": ".venv",
   "language": "python",
   "name": "python3"
  },
  "language_info": {
   "codemirror_mode": {
    "name": "ipython",
    "version": 3
   },
   "file_extension": ".py",
   "mimetype": "text/x-python",
   "name": "python",
   "nbconvert_exporter": "python",
   "pygments_lexer": "ipython3",
   "version": "3.10.11"
  },
  "orig_nbformat": 4
 },
 "nbformat": 4,
 "nbformat_minor": 2
}
