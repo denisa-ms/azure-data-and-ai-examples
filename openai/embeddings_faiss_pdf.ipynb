{
 "cells": [
  {
   "attachments": {},
   "cell_type": "markdown",
   "metadata": {},
   "source": [
    "### DESCRIPTION:\n",
    "    This example shows how to create embeddings from Azure Documentation files in PDF format and saves it in the /data/documentation/ folder into a FAISS index.\n",
    "    Then query these documents and get an answer using OpenAI GPT3.5 with chat\n",
    "### REQUIREMENTS:\n",
    "    Create an .env file with your OpenAI API key and save it in the root directory of this project.\n",
    "\n",
    "  For more information about Faiss index, see:\n",
    "      https://github.com/facebookresearch/faiss"
   ]
  },
  {
   "cell_type": "code",
   "execution_count": 1,
   "metadata": {},
   "outputs": [],
   "source": [
    "from langchain.document_loaders import PyPDFLoader \n",
    "from langchain.chains import RetrievalQA\n",
    "from langchain.vectorstores import FAISS\n",
    "from langchain.chains.question_answering import load_qa_chain\n",
    "\n",
    "import utils\n",
    "from dotenv import load_dotenv"
   ]
  },
  {
   "cell_type": "code",
   "execution_count": null,
   "metadata": {},
   "outputs": [],
   "source": [
    "# IMPORTANT!!\n",
    "# you only need to run this once to create the embeddings, then you can use the faiss_index for retrieval\n",
    "# you can use the already created faiss_index in the dbs folder - ./dbs/documentation/faiss_index\n",
    "\n",
    "# create embeddings from Azure Documentation files in PDF format in the /data/documentation/ folder and save it to a FAISS index.\n",
    "utils.init_OpenAI()\n",
    "embeddings = utils.init_embeddings()\n",
    "\n",
    "dataPath = \"./data/documentation/\"\n",
    "fileName = dataPath + \"azure-azure-functions.pdf\"\n",
    "loader = PyPDFLoader(fileName)\n",
    "pages = loader.load_and_split()\n",
    "db = FAISS.from_documents(documents=pages, embedding=embeddings)\n",
    "db.save_local(\"./dbs/documentation/faiss_index\")"
   ]
  },
  {
   "cell_type": "code",
   "execution_count": 3,
   "metadata": {},
   "outputs": [],
   "source": [
    "\n",
    "llm = utils.init_llm()\n",
    "embeddings = utils.init_embeddings()\n",
    "vectorStore = FAISS.load_local(\"./dbs/documentation/faiss_index\", embeddings)\n",
    "retriever = vectorStore.as_retriever(search_type=\"similarity\", search_kwargs={\"k\":2})\n",
    "qa = RetrievalQA.from_chain_type(llm=llm, chain_type=\"stuff\", retriever=retriever, return_source_documents=False)"
   ]
  },
  {
   "cell_type": "code",
   "execution_count": 10,
   "metadata": {},
   "outputs": [
    {
     "data": {
      "text/plain": [
       "{'query': \"Which azure functions' version supports Python 3.7?\",\n",
       " 'result': 'The article does not mention Python 3.7 specifically. It states that the Python v2 programming model is only supported in the 4.x functions runtime. For more information, you can refer to the Azure Functions runtime versions overview.'}"
      ]
     },
     "execution_count": 10,
     "metadata": {},
     "output_type": "execute_result"
    }
   ],
   "source": [
    "qa({\"query\": \"Which azure functions' version supports Python 3.7?\"})"
   ]
  },
  {
   "cell_type": "code",
   "execution_count": 11,
   "metadata": {},
   "outputs": [
    {
     "data": {
      "text/plain": [
       "{'query': 'Explain which application patterns are supported by Azure Functions',\n",
       " 'result': 'Azure Functions support several application patterns, including:\\n\\n1. Function chaining: where a sequence of functions executes in a specific order, and the output of one function is applied to the input of another function.\\n\\n2. Fan-out/fan-in: where multiple functions execute in parallel, and the results are aggregated to produce a final result.\\n\\n3. Async HTTP APIs: where an HTTP request triggers a long-running process, and the response is returned later when the process is complete.\\n\\n4. Monitoring: where functions can be monitored for performance, errors, and other metrics using Azure Application Insights.\\n\\n5. Human interaction: where functions can be used to automate workflows that involve human interaction, such as approval processes.\\n\\n6. Aggregator (stateful entities): where functions can maintain stateful entities, such as a shopping cart or a user session.'}"
      ]
     },
     "execution_count": 11,
     "metadata": {},
     "output_type": "execute_result"
    }
   ],
   "source": [
    "qa({\"query\": \"Explain which application patterns are supported by Azure Functions\"})"
   ]
  }
 ],
 "metadata": {
  "kernelspec": {
   "display_name": ".venv",
   "language": "python",
   "name": "python3"
  },
  "language_info": {
   "codemirror_mode": {
    "name": "ipython",
    "version": 3
   },
   "file_extension": ".py",
   "mimetype": "text/x-python",
   "name": "python",
   "nbconvert_exporter": "python",
   "pygments_lexer": "ipython3",
   "version": "3.11.2"
  },
  "orig_nbformat": 4
 },
 "nbformat": 4,
 "nbformat_minor": 2
}
