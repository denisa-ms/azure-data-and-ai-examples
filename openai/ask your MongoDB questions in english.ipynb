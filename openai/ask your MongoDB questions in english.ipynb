{
 "cells": [
  {
   "attachments": {},
   "cell_type": "markdown",
   "metadata": {},
   "source": [
    "### DESCRIPTION:\n",
    "    This example shows how to generate MQL (MongoDB Query language) from user input using OpenAI GPT3.5 completion model\n",
    "### REQUIREMENTS:\n",
    "    Create an .env file with your OpenAI API key and save it in the root directory of this project with the following\n",
    "    OPENAI_DEPLOYMENT_ENDPOINT =\"<your openai endpoint>\" \n",
    "    OPENAI_API_KEY = \"<your openai api key>\"\n",
    "    OPENAI_DEPLOYMENT_NAME = \"<your gpt35 deployment name>\"\n",
    "    OPENAI_DEPLOYMENT_VERSION = \"<gpt35 api version>\"\n",
    "    OPENAI_MODEL_NAME=\"<gpt35 model name>\"\n"
   ]
  },
  {
   "cell_type": "code",
   "execution_count": 79,
   "metadata": {},
   "outputs": [],
   "source": [
    "from dotenv import load_dotenv\n",
    "import pandas as pd\n",
    "import utils\n",
    "from azure.cosmos import CosmosClient\n",
    "import pymongo"
   ]
  },
  {
   "cell_type": "code",
   "execution_count": 80,
   "metadata": {},
   "outputs": [],
   "source": [
    "#connect to Cosmos for Mongo DB\n",
    "client = pymongo.MongoClient(utils.COSMOS_MONGO_DB_CONN_STRING)\n",
    "try:\n",
    "    client.server_info() # validate connection string\n",
    "except pymongo.errors.ServerSelectionTimeoutError:\n",
    "    raise TimeoutError(\"Invalid API for MongoDB connection string or timed out when attempting to connect\")\n",
    "db = client[\"music\"]\n",
    "songsCollection = db[\"songs\"]"
   ]
  },
  {
   "cell_type": "code",
   "execution_count": null,
   "metadata": {},
   "outputs": [],
   "source": [
    "def convert_to_json_array(arr):\n",
    "    if not arr is None:\n",
    "        arr = arr.replace('[','')\n",
    "        arr = arr.replace(']','')\n",
    "        return arr.split(',')\n",
    "    else:\n",
    "        return None\n",
    "    \n",
    "#load data into cosmos mongo db \n",
    "df = pd.read_csv('./data/music/final.csv')\n",
    "for index, row in df.iterrows():\n",
    "    song = {\n",
    "        \"track_id\": row['track_id'],\n",
    "        \"artist_id\": row['artist_id'],\n",
    "        \"album_id\": row['album_id'],\n",
    "        \"path\": row['path'],\n",
    "        \"duration\": row['duration'],\n",
    "        \"moods\": convert_to_json_array(row['mood']),\n",
    "        \"instruments\": convert_to_json_array(row['instrument']),\n",
    "        \"genres\": convert_to_json_array(row['genre'])\n",
    "    }\n",
    "    obj = songsCollection.insert_one(song)\n",
    "    print(f'{song}  {obj.inserted_id}')"
   ]
  },
  {
   "cell_type": "code",
   "execution_count": 81,
   "metadata": {},
   "outputs": [
    {
     "name": "stdout",
     "output_type": "stream",
     "text": [
      "7214\n"
     ]
    }
   ],
   "source": [
    "# count the documents in our mongoDB\n",
    "print(songsCollection.count_documents({}))"
   ]
  },
  {
   "cell_type": "code",
   "execution_count": 82,
   "metadata": {},
   "outputs": [
    {
     "name": "stdout",
     "output_type": "stream",
     "text": [
      "{'_id': ObjectId('64b225762a1a1cc5b121d46b'), 'track_id': 'track_0021492', 'artist_id': 'artist_003177', 'album_id': 'album_003005', 'path': '92/21492.mp3', 'duration': 80.0, 'moods': ['funny', 'happy', 'positive', 'relaxing'], 'instruments': ['guitar'], 'genres': ['alternative', 'electronic', 'experimental']}\n"
     ]
    }
   ],
   "source": [
    "#find a song with mood = happy\n",
    "print(songsCollection.find_one({\"moods\": \"happy\"}))"
   ]
  },
  {
   "cell_type": "code",
   "execution_count": 83,
   "metadata": {},
   "outputs": [],
   "source": [
    "from dotenv import load_dotenv\n",
    "import pandas as pd\n",
    "import utils\n",
    "import os\n",
    "import openai\n",
    "import json \n",
    "\n",
    "load_dotenv()\n",
    "OPENAI_API_KEY = os.getenv(\"OPENAI_API_KEY\") \n",
    "OPENAI_DEPLOYMENT_ENDPOINT = os.getenv(\"OPENAI_DEPLOYMENT_ENDPOINT\")\n",
    "OPENAI_DEPLOYMENT_NAME = os.getenv(\"OPENAI_DEPLOYMENT_NAME\")\n",
    "OPENAI_MODEL_NAME = os.getenv(\"OPENAI_MODEL_NAME\")\n",
    "OPENAI_DEPLOYMENT_VERSION = os.getenv(\"OPENAI_DEPLOYMENT_VERSION\")\n",
    "# Configure OpenAI API\n",
    "openai.api_type = \"azure\"\n",
    "openai.api_version = OPENAI_DEPLOYMENT_VERSION\n",
    "openai.api_base = OPENAI_DEPLOYMENT_ENDPOINT\n",
    "openai.api_key = OPENAI_API_KEY"
   ]
  },
  {
   "cell_type": "code",
   "execution_count": 84,
   "metadata": {},
   "outputs": [],
   "source": [
    "def call_openai(template_prefix, text):\n",
    "    prompt = template_prefix + text + template_sufix\n",
    "    response = openai.Completion.create(\n",
    "        engine=utils.OPENAI_DEPLOYMENT_NAME,\n",
    "        prompt=prompt,\n",
    "        temperature=0,\n",
    "        max_tokens=4096,\n",
    "        top_p=0.95,\n",
    "        frequency_penalty=0,\n",
    "        presence_penalty=0,\n",
    "        stop=[\"<|im_end|>\"])\n",
    "    response = response['choices'][0]['text']\n",
    "    response = utils.remove_chars(\"\\n\", response)\n",
    "    response=utils.start_after_string(\"Answer:\", response)\n",
    "    response=utils.remove_tail_tags(\"<|im_end|>\", response)\n",
    "    return response\n",
    "\n",
    "def call_openai_mql_response(template_prefix, text):\n",
    "    response = call_openai(template_prefix, text)\n",
    "    arr1 = response.split(\"(\")\n",
    "    arr2 = arr1[1].split(\")\")\n",
    "    response = arr2[0].replace\n",
    "    response = arr2[0]\n",
    "    response = response.replace(\"$and\", \"\\\"$and\\\"\")\n",
    "    response = response.replace(\"$or\", \"\\\"$or\\\"\")\n",
    "    response = response.replace(\"$eq\", \"\\\"$eq\\\"\")\n",
    "    response = response.replace(\"$ne\", \"\\\"$ne\\\"\")\n",
    "    response = response.replace(\"$gt\", \"\\\"$gt\\\"\")\n",
    "    response = response.replace(\"$gte\", \"\\\"$gte\\\"\")\n",
    "    response = response.replace(\"$lt\", \"\\\"$lt\\\"\")\n",
    "    response = response.replace(\"$lte\", \"\\\"$lte\\\"\")\n",
    "    response = response.replace(\"$in\", \"\\\"$in\\\"\")\n",
    "    response = response.replace(\"$nin\", \"\\\"$nin\\\"\")\n",
    "    response = response.replace(\"$exists\", \"\\\"$exists\\\"\")\n",
    "    response = response.replace(\"moods\", \"\\\"moods\\\"\")\n",
    "    response = response.replace(\"instruments\", \"\\\"instruments\\\"\")\n",
    "    response = response.replace(\"genres\", \"\\\"genres\\\"\")\n",
    "    return response"
   ]
  },
  {
   "cell_type": "code",
   "execution_count": 85,
   "metadata": {},
   "outputs": [],
   "source": [
    "mongoquery_template_prefix = \"\"\"\n",
    "<|im_start|>system\n",
    "I have a mongoDB table containing the following columns: \n",
    "{\\\"moods\\\": [],\\\"instruments\\\": [],\\\"genres\\\": []}\n",
    "Write an MQL query based on the user input below:\n",
    "\n",
    "Answer in a concise MQL query format\n",
    "user input: \n",
    "\"\"\"\n",
    "template_sufix = \"<|im_end|>\\n<|im_start|>assistant\""
   ]
  },
  {
   "cell_type": "code",
   "execution_count": 86,
   "metadata": {},
   "outputs": [
    {
     "name": "stdout",
     "output_type": "stream",
     "text": [
      "{'_id': ObjectId('64b225762a1a1cc5b121d46b'), 'track_id': 'track_0021492', 'artist_id': 'artist_003177', 'album_id': 'album_003005', 'path': '92/21492.mp3', 'duration': 80.0, 'moods': ['funny', 'happy', 'positive', 'relaxing'], 'instruments': ['guitar'], 'genres': ['alternative', 'electronic', 'experimental']}\n"
     ]
    }
   ],
   "source": [
    "response = call_openai_mql_response(mongoquery_template_prefix, \"I would like to find music for guitar or piano, for a happy mood\")\n",
    "print(songsCollection.find_one(json.loads(response)))"
   ]
  }
 ],
 "metadata": {
  "kernelspec": {
   "display_name": ".venv",
   "language": "python",
   "name": "python3"
  },
  "language_info": {
   "codemirror_mode": {
    "name": "ipython",
    "version": 3
   },
   "file_extension": ".py",
   "mimetype": "text/x-python",
   "name": "python",
   "nbconvert_exporter": "python",
   "pygments_lexer": "ipython3",
   "version": "3.10.11"
  },
  "orig_nbformat": 4
 },
 "nbformat": 4,
 "nbformat_minor": 2
}
