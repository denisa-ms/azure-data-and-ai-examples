{
 "cells": [
  {
   "attachments": {},
   "cell_type": "markdown",
   "metadata": {},
   "source": [
    "### DESCRIPTION:\n",
    "    This example shows how to create embeddings from \"Moby-Dick; or The Whale\" - a novel by Herman Melville in txt format and saves it in the /dbs/books/ folder to a FAISS index.\n",
    "    Then query these documents and get an answer using OpenAI GPT3.5 with chat\n",
    "### REQUIREMENTS:\n",
    "    Create an .env file with your OpenAI API key and save it in the root directory of this project.\n",
    "\n",
    "  For more information about Faiss index, see:\n",
    "      https://github.com/facebookresearch/faiss"
   ]
  },
  {
   "cell_type": "code",
   "execution_count": 1,
   "metadata": {},
   "outputs": [],
   "source": [
    "from openai.embeddings_utils import cosine_similarity\n",
    "from langchain import PromptTemplate\n",
    "from langchain.llms import AzureOpenAI\n",
    "import pandas as pd\n",
    "from dotenv import load_dotenv\n",
    "import pandas as pd\n",
    "import time\n",
    "import utils as utils\n",
    "import tiktoken\n",
    "from tenacity import retry, wait_random_exponential, stop_after_attempt"
   ]
  },
  {
   "cell_type": "code",
   "execution_count": 2,
   "metadata": {},
   "outputs": [],
   "source": [
    "load_dotenv()\n",
    "openai = utils.init_OpenAI()\n",
    "\n",
    "# encoding for text-embedding-ada-002\n",
    "embedding_encoding = \"cl100k_base\"  \n",
    "encoding = tiktoken.get_encoding(embedding_encoding)"
   ]
  },
  {
   "cell_type": "code",
   "execution_count": 3,
   "metadata": {},
   "outputs": [],
   "source": [
    "@retry(wait=wait_random_exponential(min=1, max=20), stop=stop_after_attempt(6))\n",
    "def calc_embeddings(text):\n",
    "    # replace newlines, which can negatively affect performance.\n",
    "    text = text.replace(\"\\n\", \" \")\n",
    "    return openai.Embedding.create(input=[text], engine=utils.OPENAI_EMBEDDING_MODEL_NAME)[\"data\"][0][\"embedding\"]"
   ]
  },
  {
   "cell_type": "code",
   "execution_count": 4,
   "metadata": {},
   "outputs": [
    {
     "name": "stdout",
     "output_type": "stream",
     "text": [
      "\n",
      "    Text1: Automatic Chicken Coop Door Opener Hen House Light Sensor Closer,\n",
      "    Text2: Automatic Chicken Coop Door Opener Hen House Light Sensor Closer Opene,\n",
      "    cosine_similarity: 0.9956954434535107\n",
      "\n",
      "\n",
      "    Text1: Automatic Chicken Coop Door Opener Hen House Light Sensor Closer,\n",
      "    Text2: Automatic Chicken Coop Door Opener Hen House Light and some blah blah\n",
      "    cosine_similarity: 0.923000174626097\n",
      "\n",
      "\n",
      "    Text1: Automatic Chicken Coop Door Opener Hen House Light Sensor Closer,\n",
      "    Text2: totally different text\n",
      "    cosine_similarity: 0.7076560470812693\n",
      "\n"
     ]
    }
   ],
   "source": [
    "response = \"\"\"\n",
    "    Text1: {txt1}\n",
    "    Text2: {txt2}\n",
    "    cosine_similarity: {cosine_similarity}\n",
    "\"\"\"\n",
    "\n",
    "# tbd use pandas\n",
    "sample1 = \"Automatic Chicken Coop Door Opener Hen House Light Sensor Closer,\"\n",
    "sample2 = \"Automatic Chicken Coop Door Opener Hen House Light Sensor Closer Opene,\"\n",
    "sample3 = \"Automatic Chicken Coop Door Opener Hen House Light and some blah blah\"\n",
    "sample4 = \"totally different text\"\n",
    "\n",
    "# calc embeddings\n",
    "embed1 = calc_embeddings(sample1)\n",
    "embed2 = calc_embeddings(sample2)\n",
    "result = cosine_similarity(embed1, embed2)\n",
    "print(response.format(txt1=sample1, txt2=sample2, cosine_similarity=result))\n",
    "\n",
    "time.sleep(10)\n",
    "embed3 = calc_embeddings(sample3)\n",
    "result = cosine_similarity(embed1, embed3)\n",
    "print(response.format(txt1=sample1, txt2=sample3, cosine_similarity=result))\n",
    "\n",
    "time.sleep(10)\n",
    "embed4 = calc_embeddings(sample4)\n",
    "result = cosine_similarity(embed1, embed4)\n",
    "print(response.format(txt1=sample1, txt2=sample4, cosine_similarity=result))"
   ]
  }
 ],
 "metadata": {
  "kernelspec": {
   "display_name": ".venv",
   "language": "python",
   "name": "python3"
  },
  "language_info": {
   "codemirror_mode": {
    "name": "ipython",
    "version": 3
   },
   "file_extension": ".py",
   "mimetype": "text/x-python",
   "name": "python",
   "nbconvert_exporter": "python",
   "pygments_lexer": "ipython3",
   "version": "3.10.11"
  },
  "orig_nbformat": 4
 },
 "nbformat": 4,
 "nbformat_minor": 2
}
