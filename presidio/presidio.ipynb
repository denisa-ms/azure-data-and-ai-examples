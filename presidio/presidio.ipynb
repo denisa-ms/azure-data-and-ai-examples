{
 "cells": [
  {
   "cell_type": "markdown",
   "metadata": {},
   "source": [
    "#### Call OpenAI to generate JSON from user's input ####"
   ]
  },
  {
   "cell_type": "code",
   "execution_count": 15,
   "metadata": {},
   "outputs": [],
   "source": [
    "from presidio_analyzer import AnalyzerEngine\n",
    "from presidio_anonymizer import AnonymizerEngine\n",
    "from presidio_anonymizer.entities import OperatorConfig\n",
    "CRYPTO_KEY = \"WmZq4t7w!z%C&F)J\"\n",
    "\n",
    "anonymizer = AnonymizerEngine()\n",
    "analyzer = AnalyzerEngine()\n",
    "\n",
    "def anonimyzeUsingPresidio(text):\n",
    "    # anonimyze json using Presidio\n",
    "    # Call analyzer to get results\n",
    "    analyzer_results = analyzer.analyze(text,\n",
    "                            entities=[\"EMAIL_ADDRESS\",\"LOCATION\",\"PERSON\",\"PHONE_NUMBER\" ],\n",
    "                            language='en')\n",
    "    print(analyzer_results)\n",
    "    anonymized_results = anonymizer.anonymize(\n",
    "        text=text,\n",
    "        analyzer_results=analyzer_results,\n",
    "        operators={\n",
    "            \"PERSON\": OperatorConfig(\"encrypt\", {\"key\": CRYPTO_KEY}),\n",
    "            \"LOCATION\": OperatorConfig(\"encrypt\", {\"key\": CRYPTO_KEY}),\n",
    "            \"EMAIL_ADDRESS\": OperatorConfig(\"encrypt\", {\"key\": CRYPTO_KEY}),\n",
    "            \"PHONE_NUMBER\": OperatorConfig(\"encrypt\", {\"key\": CRYPTO_KEY})\n",
    "        },\n",
    "    )\n",
    "    return anonymized_results"
   ]
  },
  {
   "cell_type": "code",
   "execution_count": 10,
   "metadata": {},
   "outputs": [
    {
     "data": {
      "text/plain": [
       "<spacy.lang.en.English at 0x2578781f640>"
      ]
     },
     "execution_count": 10,
     "metadata": {},
     "output_type": "execute_result"
    }
   ],
   "source": [
    "# run this once for presidio to work\n",
    "import spacy.cli\n",
    "spacy.load('en_core_web_lg')"
   ]
  },
  {
   "cell_type": "code",
   "execution_count": 16,
   "metadata": {},
   "outputs": [
    {
     "name": "stdout",
     "output_type": "stream",
     "text": [
      "[type: EMAIL_ADDRESS, start: 84, end: 101, score: 1.0, type: PERSON, start: 11, end: 25, score: 0.85, type: LOCATION, start: 59, end: 67, score: 0.85, type: PHONE_NUMBER, start: 125, end: 135, score: 0.75]\n",
      "My name is OUQQM17vbJTnhYqaTsgPF8St6G5vKf+5k9h10Woth2M= and I am 18 years old. I live in sjgwtvLseQZoanUoDJHsm+ThWI/pX+0JkHpLhaepiwo= and my email is +shlakHuWmKyvfNMIQ6BhuU5om/n1rm+vvAoyvYTqoTwnvRvepmd5LQytq2jiohX and my phone number is //Ycdp9f8GTago8EiEBdmi8u8/sSWs5HATorTaWB5qc=\n"
     ]
    }
   ],
   "source": [
    "text = \"My name is Sachin Mubarak and I am 18 years old. I live in New York and my email is sachin@sachin.com and my phone number is 1234567890\"\n",
    "print(anonimyzeUsingPresidio(text).text)"
   ]
  }
 ],
 "metadata": {
  "kernelspec": {
   "display_name": ".venv",
   "language": "python",
   "name": "python3"
  },
  "language_info": {
   "codemirror_mode": {
    "name": "ipython",
    "version": 3
   },
   "file_extension": ".py",
   "mimetype": "text/x-python",
   "name": "python",
   "nbconvert_exporter": "python",
   "pygments_lexer": "ipython3",
   "version": "3.10.11"
  },
  "orig_nbformat": 4
 },
 "nbformat": 4,
 "nbformat_minor": 2
}
