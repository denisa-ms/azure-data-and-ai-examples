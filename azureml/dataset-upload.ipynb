{
  "cells": [
    {
      "cell_type": "markdown",
      "metadata": {},
      "source": [
        "# Analyze data drift in Azure ML\n",
        "\n",
        "This tutorial is based on the data from Azure Open Datasets using weather data.\n",
        "\n",
        "This tutorial will allow you to monitor data drift on an Azure ML dataset."
      ]
    },
    {
      "cell_type": "code",
      "execution_count": 6,
      "metadata": {},
      "outputs": [],
      "source": [
        "import os\n",
        "from dotenv import load_dotenv\n",
        "load_dotenv()\n",
        "\n",
        "subscription_id = os.environ[\"AZURE_SUBSCRIPTION_ID\"]\n",
        "resource_group_name = os.environ[\"AZURE_RESOURCE_GROUP\"]\n",
        "workspace_name = os.environ[\"AZUREML_WORKSPACE_NAME\"]"
      ]
    },
    {
      "cell_type": "code",
      "execution_count": 7,
      "metadata": {},
      "outputs": [],
      "source": [
        "from azure.identity import DefaultAzureCredential, InteractiveBrowserCredential\n",
        "\n",
        "try:\n",
        "    credential = DefaultAzureCredential()\n",
        "    # Check if given credential can get token successfully.\n",
        "    credential.get_token(\"https://management.azure.com/.default\")\n",
        "except Exception as ex:\n",
        "    # Fall back to InteractiveBrowserCredential in case DefaultAzureCredential not work\n",
        "    # This will open a browser page for\n",
        "    credential = InteractiveBrowserCredential()"
      ]
    },
    {
      "cell_type": "code",
      "execution_count": 8,
      "metadata": {},
      "outputs": [
        {
          "name": "stderr",
          "output_type": "stream",
          "text": [
            "Found the config file in: .\\.azureml\\config.json\n",
            "Class WorkspaceHubOperations: This is an experimental class, and may change at any time. Please see https://aka.ms/azuremlexperimental for more information.\n"
          ]
        },
        {
          "name": "stdout",
          "output_type": "stream",
          "text": [
            "MLClient(credential=<azure.identity._credentials.default.DefaultAzureCredential object at 0x000001B6255B5DB0>,\n",
            "         subscription_id=ec967cb5-f2b0-43c2-9ba2-4a2eb94bbacc,\n",
            "         resource_group_name=azureml-demos,\n",
            "         workspace_name=azureml-demos)\n"
          ]
        }
      ],
      "source": [
        "from azure.ai.ml import MLClient\n",
        "try:\n",
        "    ml_client = MLClient.from_config(credential=credential)\n",
        "except Exception as ex:\n",
        "    client_config = {\n",
        "        \"subscription_id\": subscription_id,\n",
        "        \"resource_group\": resource_group_name,\n",
        "        \"workspace_name\": workspace_name,\n",
        "    }\n",
        "\n",
        "print(ml_client)"
      ]
    },
    {
      "cell_type": "code",
      "execution_count": 9,
      "metadata": {},
      "outputs": [
        {
          "name": "stdout",
          "output_type": "stream",
          "text": [
            "Data asset already exists. Name: weather, version: initial\n"
          ]
        }
      ],
      "source": [
        "from azure.ai.ml.entities import Data\n",
        "from azure.ai.ml.constants import AssetTypes\n",
        "\n",
        "my_path = \"./data/weather/\"\n",
        "v1 = \"initial\"\n",
        "\n",
        "DATASET_NAME = \"weather\"\n",
        "\n",
        "my_data = Data(\n",
        "    name=DATASET_NAME,\n",
        "    version=v1,\n",
        "    description=\"Open datasets NOAA weather data\",\n",
        "    path=my_path,\n",
        "    type=AssetTypes.URI_FOLDER\n",
        ")\n",
        "\n",
        "## create data asset if it doesn't already exist:\n",
        "try:\n",
        "    data_asset = ml_client.data.get(name=DATASET_NAME, version=v1)\n",
        "    print(\n",
        "        f\"Data asset already exists. Name: {my_data.name}, version: {my_data.version}\"\n",
        "    )\n",
        "except:\n",
        "    ml_client.data.create_or_update(my_data)\n",
        "    print(f\"Data asset created. Name: {my_data.name}, version: {my_data.version}\")"
      ]
    }
  ],
  "metadata": {
    "authors": [
      {
        "name": "jamgan"
      }
    ],
    "category": "tutorial",
    "compute": [
      "Remote"
    ],
    "datasets": [
      "NOAA"
    ],
    "deployment": [
      "None"
    ],
    "exclude_from_index": false,
    "framework": [
      "Azure ML"
    ],
    "friendly_name": "Data drift quickdemo",
    "index_order": 1,
    "kernelspec": {
      "display_name": ".venv",
      "language": "python",
      "name": "python3"
    },
    "language_info": {
      "codemirror_mode": {
        "name": "ipython",
        "version": 3
      },
      "file_extension": ".py",
      "mimetype": "text/x-python",
      "name": "python",
      "nbconvert_exporter": "python",
      "pygments_lexer": "ipython3",
      "version": "3.10.11"
    },
    "star_tag": [
      "featured"
    ],
    "tags": [
      "Dataset",
      "Timeseries",
      "Drift"
    ],
    "task": "Filtering"
  },
  "nbformat": 4,
  "nbformat_minor": 4
}
