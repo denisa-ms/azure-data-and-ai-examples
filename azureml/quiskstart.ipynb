{
  "cells": [
    {
      "cell_type": "code",
      "execution_count": 6,
      "metadata": {},
      "outputs": [],
      "source": [
        "import os\n",
        "from dotenv import load_dotenv\n",
        "load_dotenv()\n",
        "\n",
        "subscription_id = os.environ[\"AZURE_SUBSCRIPTION_ID\"]\n",
        "resource_group_name = os.environ[\"AZURE_RESOURCE_GROUP\"]\n",
        "workspace_name = os.environ[\"AZUREML_WORKSPACE_NAME\"]"
      ]
    },
    {
      "cell_type": "code",
      "execution_count": 7,
      "metadata": {},
      "outputs": [],
      "source": [
        "from azure.identity import DefaultAzureCredential, InteractiveBrowserCredential\n",
        "\n",
        "try:\n",
        "    credential = DefaultAzureCredential()\n",
        "    # Check if given credential can get token successfully.\n",
        "    credential.get_token(\"https://management.azure.com/.default\")\n",
        "except Exception as ex:\n",
        "    # Fall back to InteractiveBrowserCredential in case DefaultAzureCredential not work\n",
        "    # This will open a browser page for\n",
        "    credential = InteractiveBrowserCredential()"
      ]
    },
    {
      "cell_type": "code",
      "execution_count": 8,
      "metadata": {},
      "outputs": [
        {
          "name": "stderr",
          "output_type": "stream",
          "text": [
            "Found the config file in: .\\.azureml\\config.json\n",
            "Class WorkspaceHubOperations: This is an experimental class, and may change at any time. Please see https://aka.ms/azuremlexperimental for more information.\n"
          ]
        },
        {
          "name": "stdout",
          "output_type": "stream",
          "text": [
            "MLClient(credential=<azure.identity._credentials.default.DefaultAzureCredential object at 0x000001FCE245D750>,\n",
            "         subscription_id=ec967cb5-f2b0-43c2-9ba2-4a2eb94bbacc,\n",
            "         resource_group_name=azureml-demos,\n",
            "         workspace_name=azureml-demos)\n"
          ]
        }
      ],
      "source": [
        "from azure.ai.ml import MLClient\n",
        "try:\n",
        "    ml_client = MLClient.from_config(credential=credential)\n",
        "except Exception as ex:\n",
        "    client_config = {\n",
        "        \"subscription_id\": subscription_id,\n",
        "        \"resource_group\": resource_group_name,\n",
        "        \"workspace_name\": workspace_name,\n",
        "    }\n",
        "\n",
        "print(ml_client)"
      ]
    },
    {
      "cell_type": "code",
      "execution_count": 10,
      "metadata": {},
      "outputs": [
        {
          "ename": "HttpResponseError",
          "evalue": "(AuthorizationFailed) The client 'bf43feda-9d06-450f-a4bd-b7b54708d826' with object id 'bf43feda-9d06-450f-a4bd-b7b54708d826' does not have authorization to perform action 'Microsoft.Resources/deployments/write' over scope '/subscriptions/ec967cb5-f2b0-43c2-9ba2-4a2eb94bbacc/resourcegroups/azureml-demos/providers/Microsoft.Resources/deployments/mlw-example-7390006' or the scope is invalid. If access was recently granted, please refresh your credentials.\nCode: AuthorizationFailed\nMessage: The client 'bf43feda-9d06-450f-a4bd-b7b54708d826' with object id 'bf43feda-9d06-450f-a4bd-b7b54708d826' does not have authorization to perform action 'Microsoft.Resources/deployments/write' over scope '/subscriptions/ec967cb5-f2b0-43c2-9ba2-4a2eb94bbacc/resourcegroups/azureml-demos/providers/Microsoft.Resources/deployments/mlw-example-7390006' or the scope is invalid. If access was recently granted, please refresh your credentials.",
          "output_type": "error",
          "traceback": [
            "\u001b[1;31m---------------------------------------------------------------------------\u001b[0m",
            "\u001b[1;31mHttpResponseError\u001b[0m                         Traceback (most recent call last)",
            "\u001b[1;32mc:\\Users\\dschlesinger\\code\\ongoing\\azure-data-and-ai-examples\\azureml\\quiskstart.ipynb Cell 4\u001b[0m line \u001b[0;36m1\n\u001b[0;32m      <a href='vscode-notebook-cell:/c%3A/Users/dschlesinger/code/ongoing/azure-data-and-ai-examples/azureml/quiskstart.ipynb#X41sZmlsZQ%3D%3D?line=2'>3</a>\u001b[0m workspace_name \u001b[39m=\u001b[39m \u001b[39m\"\u001b[39m\u001b[39mmlw-example\u001b[39m\u001b[39m\"\u001b[39m\n\u001b[0;32m      <a href='vscode-notebook-cell:/c%3A/Users/dschlesinger/code/ongoing/azure-data-and-ai-examples/azureml/quiskstart.ipynb#X41sZmlsZQ%3D%3D?line=4'>5</a>\u001b[0m ws_basic \u001b[39m=\u001b[39m Workspace(\n\u001b[0;32m      <a href='vscode-notebook-cell:/c%3A/Users/dschlesinger/code/ongoing/azure-data-and-ai-examples/azureml/quiskstart.ipynb#X41sZmlsZQ%3D%3D?line=5'>6</a>\u001b[0m     name\u001b[39m=\u001b[39mworkspace_name,\n\u001b[0;32m      <a href='vscode-notebook-cell:/c%3A/Users/dschlesinger/code/ongoing/azure-data-and-ai-examples/azureml/quiskstart.ipynb#X41sZmlsZQ%3D%3D?line=6'>7</a>\u001b[0m     location\u001b[39m=\u001b[39m\u001b[39m\"\u001b[39m\u001b[39meastus\u001b[39m\u001b[39m\"\u001b[39m,\n\u001b[0;32m      <a href='vscode-notebook-cell:/c%3A/Users/dschlesinger/code/ongoing/azure-data-and-ai-examples/azureml/quiskstart.ipynb#X41sZmlsZQ%3D%3D?line=7'>8</a>\u001b[0m     display_name\u001b[39m=\u001b[39m\u001b[39m\"\u001b[39m\u001b[39mBasic workspace-example\u001b[39m\u001b[39m\"\u001b[39m,\n\u001b[0;32m      <a href='vscode-notebook-cell:/c%3A/Users/dschlesinger/code/ongoing/azure-data-and-ai-examples/azureml/quiskstart.ipynb#X41sZmlsZQ%3D%3D?line=8'>9</a>\u001b[0m     description\u001b[39m=\u001b[39m\u001b[39m\"\u001b[39m\u001b[39mThis example shows how to create a basic workspace\u001b[39m\u001b[39m\"\u001b[39m,\n\u001b[0;32m     <a href='vscode-notebook-cell:/c%3A/Users/dschlesinger/code/ongoing/azure-data-and-ai-examples/azureml/quiskstart.ipynb#X41sZmlsZQ%3D%3D?line=9'>10</a>\u001b[0m )\n\u001b[1;32m---> <a href='vscode-notebook-cell:/c%3A/Users/dschlesinger/code/ongoing/azure-data-and-ai-examples/azureml/quiskstart.ipynb#X41sZmlsZQ%3D%3D?line=10'>11</a>\u001b[0m ml_client\u001b[39m.\u001b[39;49mworkspaces\u001b[39m.\u001b[39;49mbegin_create(ws_basic)\n",
            "File \u001b[1;32mc:\\Users\\dschlesinger\\code\\ongoing\\azure-data-and-ai-examples\\.venv\\lib\\site-packages\\azure\\ai\\ml\\_telemetry\\activity.py:275\u001b[0m, in \u001b[0;36mmonitor_with_activity.<locals>.monitor.<locals>.wrapper\u001b[1;34m(*args, **kwargs)\u001b[0m\n\u001b[0;32m    272\u001b[0m \u001b[39m@functools\u001b[39m\u001b[39m.\u001b[39mwraps(f)\n\u001b[0;32m    273\u001b[0m \u001b[39mdef\u001b[39;00m \u001b[39mwrapper\u001b[39m(\u001b[39m*\u001b[39margs, \u001b[39m*\u001b[39m\u001b[39m*\u001b[39mkwargs):\n\u001b[0;32m    274\u001b[0m     \u001b[39mwith\u001b[39;00m log_activity(logger, activity_name \u001b[39mor\u001b[39;00m f\u001b[39m.\u001b[39m\u001b[39m__name__\u001b[39m, activity_type, custom_dimensions):\n\u001b[1;32m--> 275\u001b[0m         \u001b[39mreturn\u001b[39;00m f(\u001b[39m*\u001b[39margs, \u001b[39m*\u001b[39m\u001b[39m*\u001b[39mkwargs)\n",
            "File \u001b[1;32mc:\\Users\\dschlesinger\\code\\ongoing\\azure-data-and-ai-examples\\.venv\\lib\\site-packages\\azure\\core\\tracing\\decorator.py:78\u001b[0m, in \u001b[0;36mdistributed_trace.<locals>.decorator.<locals>.wrapper_use_tracer\u001b[1;34m(*args, **kwargs)\u001b[0m\n\u001b[0;32m     76\u001b[0m span_impl_type \u001b[39m=\u001b[39m settings\u001b[39m.\u001b[39mtracing_implementation()\n\u001b[0;32m     77\u001b[0m \u001b[39mif\u001b[39;00m span_impl_type \u001b[39mis\u001b[39;00m \u001b[39mNone\u001b[39;00m:\n\u001b[1;32m---> 78\u001b[0m     \u001b[39mreturn\u001b[39;00m func(\u001b[39m*\u001b[39margs, \u001b[39m*\u001b[39m\u001b[39m*\u001b[39mkwargs)\n\u001b[0;32m     80\u001b[0m \u001b[39m# Merge span is parameter is set, but only if no explicit parent are passed\u001b[39;00m\n\u001b[0;32m     81\u001b[0m \u001b[39mif\u001b[39;00m merge_span \u001b[39mand\u001b[39;00m \u001b[39mnot\u001b[39;00m passed_in_parent:\n",
            "File \u001b[1;32mc:\\Users\\dschlesinger\\code\\ongoing\\azure-data-and-ai-examples\\.venv\\lib\\site-packages\\azure\\ai\\ml\\operations\\_workspace_operations.py:177\u001b[0m, in \u001b[0;36mWorkspaceOperations.begin_create\u001b[1;34m(self, workspace, update_dependent_resources, **kwargs)\u001b[0m\n\u001b[0;32m    156\u001b[0m \u001b[39m@monitor_with_activity\u001b[39m(logger, \u001b[39m\"\u001b[39m\u001b[39mWorkspace.BeginCreate\u001b[39m\u001b[39m\"\u001b[39m, ActivityType\u001b[39m.\u001b[39mPUBLICAPI)\n\u001b[0;32m    157\u001b[0m \u001b[39m@distributed_trace\u001b[39m\n\u001b[0;32m    158\u001b[0m \u001b[39m# pylint: disable=arguments-differ\u001b[39;00m\n\u001b[1;32m   (...)\u001b[0m\n\u001b[0;32m    163\u001b[0m     \u001b[39m*\u001b[39m\u001b[39m*\u001b[39mkwargs: Dict,\n\u001b[0;32m    164\u001b[0m ) \u001b[39m-\u001b[39m\u001b[39m>\u001b[39m LROPoller[Workspace]:\n\u001b[0;32m    165\u001b[0m \u001b[39m    \u001b[39m\u001b[39m\"\"\"Create a new Azure Machine Learning Workspace.\u001b[39;00m\n\u001b[0;32m    166\u001b[0m \n\u001b[0;32m    167\u001b[0m \u001b[39m    Returns the workspace if already exists.\u001b[39;00m\n\u001b[1;32m   (...)\u001b[0m\n\u001b[0;32m    174\u001b[0m \u001b[39m    :rtype: ~azure.core.polling.LROPoller[~azure.ai.ml.entities.Workspace]\u001b[39;00m\n\u001b[0;32m    175\u001b[0m \u001b[39m    \"\"\"\u001b[39;00m\n\u001b[1;32m--> 177\u001b[0m     \u001b[39mreturn\u001b[39;00m \u001b[39msuper\u001b[39m()\u001b[39m.\u001b[39mbegin_create(workspace, update_dependent_resources\u001b[39m=\u001b[39mupdate_dependent_resources, \u001b[39m*\u001b[39m\u001b[39m*\u001b[39mkwargs)\n",
            "File \u001b[1;32mc:\\Users\\dschlesinger\\code\\ongoing\\azure-data-and-ai-examples\\.venv\\lib\\site-packages\\azure\\ai\\ml\\operations\\_workspace_operations_base.py:148\u001b[0m, in \u001b[0;36mWorkspaceOperationsBase.begin_create\u001b[1;34m(self, workspace, update_dependent_resources, get_callback, **kwargs)\u001b[0m\n\u001b[0;32m    140\u001b[0m arm_submit \u001b[39m=\u001b[39m ArmDeploymentExecutor(\n\u001b[0;32m    141\u001b[0m     credentials\u001b[39m=\u001b[39m\u001b[39mself\u001b[39m\u001b[39m.\u001b[39m_credentials,\n\u001b[0;32m    142\u001b[0m     resource_group_name\u001b[39m=\u001b[39mresource_group,\n\u001b[0;32m    143\u001b[0m     subscription_id\u001b[39m=\u001b[39m\u001b[39mself\u001b[39m\u001b[39m.\u001b[39m_subscription_id,\n\u001b[0;32m    144\u001b[0m     deployment_name\u001b[39m=\u001b[39mget_deployment_name(workspace\u001b[39m.\u001b[39mname),\n\u001b[0;32m    145\u001b[0m )\n\u001b[0;32m    147\u001b[0m \u001b[39m# deploy_resource() blocks for the poller to succeed if wait is True\u001b[39;00m\n\u001b[1;32m--> 148\u001b[0m poller \u001b[39m=\u001b[39m arm_submit\u001b[39m.\u001b[39;49mdeploy_resource(\n\u001b[0;32m    149\u001b[0m     template\u001b[39m=\u001b[39;49mtemplate,\n\u001b[0;32m    150\u001b[0m     resources_being_deployed\u001b[39m=\u001b[39;49mresources_being_deployed,\n\u001b[0;32m    151\u001b[0m     parameters\u001b[39m=\u001b[39;49mparam,\n\u001b[0;32m    152\u001b[0m     wait\u001b[39m=\u001b[39;49m\u001b[39mFalse\u001b[39;49;00m,\n\u001b[0;32m    153\u001b[0m )\n\u001b[0;32m    155\u001b[0m \u001b[39mdef\u001b[39;00m \u001b[39mcallback\u001b[39m():\n\u001b[0;32m    156\u001b[0m     \u001b[39mreturn\u001b[39;00m get_callback() \u001b[39mif\u001b[39;00m get_callback \u001b[39melse\u001b[39;00m \u001b[39mself\u001b[39m\u001b[39m.\u001b[39mget(workspace\u001b[39m.\u001b[39mname, resource_group\u001b[39m=\u001b[39mresource_group)\n",
            "File \u001b[1;32mc:\\Users\\dschlesinger\\code\\ongoing\\azure-data-and-ai-examples\\.venv\\lib\\site-packages\\azure\\ai\\ml\\_arm_deployments\\arm_deployment_executor.py:125\u001b[0m, in \u001b[0;36mArmDeploymentExecutor.deploy_resource\u001b[1;34m(self, template, resources_being_deployed, parameters, wait)\u001b[0m\n\u001b[0;32m    123\u001b[0m \u001b[39mexcept\u001b[39;00m \u001b[39mException\u001b[39;00m \u001b[39mas\u001b[39;00m ex:\n\u001b[0;32m    124\u001b[0m     module_logger\u001b[39m.\u001b[39mdebug(\u001b[39m\"\u001b[39m\u001b[39mPolling hit the exception \u001b[39m\u001b[39m%s\u001b[39;00m\u001b[39m\\n\u001b[39;00m\u001b[39m\"\u001b[39m, ex)\n\u001b[1;32m--> 125\u001b[0m     \u001b[39mraise\u001b[39;00m ex\n\u001b[0;32m    127\u001b[0m \u001b[39mif\u001b[39;00m error \u001b[39mis\u001b[39;00m \u001b[39mnot\u001b[39;00m \u001b[39mNone\u001b[39;00m:\n\u001b[0;32m    128\u001b[0m     error_msg \u001b[39m=\u001b[39m \u001b[39mf\u001b[39m\u001b[39m\"\u001b[39m\u001b[39mUnable to create resource. \u001b[39m\u001b[39m\\n\u001b[39;00m\u001b[39m \u001b[39m\u001b[39m{\u001b[39;00merror\u001b[39m}\u001b[39;00m\u001b[39m\\n\u001b[39;00m\u001b[39m\"\u001b[39m\n",
            "File \u001b[1;32mc:\\Users\\dschlesinger\\code\\ongoing\\azure-data-and-ai-examples\\.venv\\lib\\site-packages\\azure\\ai\\ml\\_arm_deployments\\arm_deployment_executor.py:90\u001b[0m, in \u001b[0;36mArmDeploymentExecutor.deploy_resource\u001b[1;34m(self, template, resources_being_deployed, parameters, wait)\u001b[0m\n\u001b[0;32m     88\u001b[0m \u001b[39m# pylint: disable=too-many-nested-blocks\u001b[39;00m\n\u001b[0;32m     89\u001b[0m \u001b[39mtry\u001b[39;00m:\n\u001b[1;32m---> 90\u001b[0m     poller \u001b[39m=\u001b[39m \u001b[39mself\u001b[39;49m\u001b[39m.\u001b[39;49m_get_poller(template\u001b[39m=\u001b[39;49mtemplate, parameters\u001b[39m=\u001b[39;49mparameters)\n\u001b[0;32m     91\u001b[0m     module_logger\u001b[39m.\u001b[39minfo(\n\u001b[0;32m     92\u001b[0m         \u001b[39m\"\u001b[39m\u001b[39mThe deployment request \u001b[39m\u001b[39m%s\u001b[39;00m\u001b[39m was accepted. ARM deployment URI for reference: \u001b[39m\u001b[39m\\n\u001b[39;00m\u001b[39m\"\u001b[39m, \u001b[39mself\u001b[39m\u001b[39m.\u001b[39m_deployment_name\n\u001b[0;32m     93\u001b[0m     )\n\u001b[0;32m     94\u001b[0m     endpoint_deployment_start_message \u001b[39m=\u001b[39m ENDPOINT_DEPLOYMENT_START_MSG\u001b[39m.\u001b[39mformat(\n\u001b[0;32m     95\u001b[0m         _get_azure_portal_id_from_metadata(),\n\u001b[0;32m     96\u001b[0m         \u001b[39mself\u001b[39m\u001b[39m.\u001b[39m_subscription_id,\n\u001b[0;32m     97\u001b[0m         \u001b[39mself\u001b[39m\u001b[39m.\u001b[39m_resource_group_name,\n\u001b[0;32m     98\u001b[0m         \u001b[39mself\u001b[39m\u001b[39m.\u001b[39m_deployment_name,\n\u001b[0;32m     99\u001b[0m     )\n",
            "File \u001b[1;32mc:\\Users\\dschlesinger\\code\\ongoing\\azure-data-and-ai-examples\\.venv\\lib\\site-packages\\azure\\ai\\ml\\_arm_deployments\\arm_deployment_executor.py:138\u001b[0m, in \u001b[0;36mArmDeploymentExecutor._get_poller\u001b[1;34m(self, template, parameters, wait)\u001b[0m\n\u001b[0;32m    135\u001b[0m \u001b[39mdef\u001b[39;00m \u001b[39m_get_poller\u001b[39m(\u001b[39mself\u001b[39m, template: \u001b[39mstr\u001b[39m, parameters: Optional[Dict] \u001b[39m=\u001b[39m \u001b[39mNone\u001b[39;00m, wait: \u001b[39mbool\u001b[39m \u001b[39m=\u001b[39m \u001b[39mTrue\u001b[39;00m) \u001b[39m-\u001b[39m\u001b[39m>\u001b[39m \u001b[39mNone\u001b[39;00m:\n\u001b[0;32m    136\u001b[0m     \u001b[39m# deploy the template\u001b[39;00m\n\u001b[0;32m    137\u001b[0m     properties \u001b[39m=\u001b[39m DeploymentProperties(template\u001b[39m=\u001b[39mtemplate, parameters\u001b[39m=\u001b[39mparameters, mode\u001b[39m=\u001b[39m\u001b[39m\"\u001b[39m\u001b[39mincremental\u001b[39m\u001b[39m\"\u001b[39m)\n\u001b[1;32m--> 138\u001b[0m     \u001b[39mreturn\u001b[39;00m \u001b[39mself\u001b[39;49m\u001b[39m.\u001b[39;49m_deployments_client\u001b[39m.\u001b[39;49mbegin_create_or_update(\n\u001b[0;32m    139\u001b[0m         resource_group_name\u001b[39m=\u001b[39;49m\u001b[39mself\u001b[39;49m\u001b[39m.\u001b[39;49m_resource_group_name,\n\u001b[0;32m    140\u001b[0m         deployment_name\u001b[39m=\u001b[39;49m\u001b[39mself\u001b[39;49m\u001b[39m.\u001b[39;49m_deployment_name,\n\u001b[0;32m    141\u001b[0m         parameters\u001b[39m=\u001b[39;49mDeployment(properties\u001b[39m=\u001b[39;49mproperties),\n\u001b[0;32m    142\u001b[0m         polling\u001b[39m=\u001b[39;49mwait,\n\u001b[0;32m    143\u001b[0m         polling_interval\u001b[39m=\u001b[39;49mLROConfigurations\u001b[39m.\u001b[39;49mPOLL_INTERVAL,\n\u001b[0;32m    144\u001b[0m     )\n",
            "File \u001b[1;32mc:\\Users\\dschlesinger\\code\\ongoing\\azure-data-and-ai-examples\\.venv\\lib\\site-packages\\azure\\ai\\ml\\_vendor\\azure_resources\\operations\\_deployments_operations.py:3331\u001b[0m, in \u001b[0;36mDeploymentsOperations.begin_create_or_update\u001b[1;34m(self, resource_group_name, deployment_name, parameters, **kwargs)\u001b[0m\n\u001b[0;32m   3329\u001b[0m cont_token \u001b[39m=\u001b[39m kwargs\u001b[39m.\u001b[39mpop(\u001b[39m\"\u001b[39m\u001b[39mcontinuation_token\u001b[39m\u001b[39m\"\u001b[39m, \u001b[39mNone\u001b[39;00m)  \u001b[39m# type: Optional[str]\u001b[39;00m\n\u001b[0;32m   3330\u001b[0m \u001b[39mif\u001b[39;00m cont_token \u001b[39mis\u001b[39;00m \u001b[39mNone\u001b[39;00m:\n\u001b[1;32m-> 3331\u001b[0m     raw_result \u001b[39m=\u001b[39m \u001b[39mself\u001b[39m\u001b[39m.\u001b[39m_create_or_update_initial(\n\u001b[0;32m   3332\u001b[0m         resource_group_name\u001b[39m=\u001b[39mresource_group_name,\n\u001b[0;32m   3333\u001b[0m         deployment_name\u001b[39m=\u001b[39mdeployment_name,\n\u001b[0;32m   3334\u001b[0m         parameters\u001b[39m=\u001b[39mparameters,\n\u001b[0;32m   3335\u001b[0m         \u001b[39mcls\u001b[39m\u001b[39m=\u001b[39m\u001b[39mlambda\u001b[39;00m x, y, z: x,\n\u001b[0;32m   3336\u001b[0m         \u001b[39m*\u001b[39m\u001b[39m*\u001b[39mkwargs\n\u001b[0;32m   3337\u001b[0m     )\n\u001b[0;32m   3339\u001b[0m kwargs\u001b[39m.\u001b[39mpop(\u001b[39m\"\u001b[39m\u001b[39merror_map\u001b[39m\u001b[39m\"\u001b[39m, \u001b[39mNone\u001b[39;00m)\n\u001b[0;32m   3340\u001b[0m kwargs\u001b[39m.\u001b[39mpop(\u001b[39m\"\u001b[39m\u001b[39mcontent_type\u001b[39m\u001b[39m\"\u001b[39m, \u001b[39mNone\u001b[39;00m)\n",
            "File \u001b[1;32mc:\\Users\\dschlesinger\\code\\ongoing\\azure-data-and-ai-examples\\.venv\\lib\\site-packages\\azure\\ai\\ml\\_vendor\\azure_resources\\operations\\_deployments_operations.py:3282\u001b[0m, in \u001b[0;36mDeploymentsOperations._create_or_update_initial\u001b[1;34m(self, resource_group_name, deployment_name, parameters, **kwargs)\u001b[0m\n\u001b[0;32m   3280\u001b[0m \u001b[39mif\u001b[39;00m response\u001b[39m.\u001b[39mstatus_code \u001b[39mnot\u001b[39;00m \u001b[39min\u001b[39;00m [\u001b[39m200\u001b[39m, \u001b[39m201\u001b[39m]:\n\u001b[0;32m   3281\u001b[0m     map_error(status_code\u001b[39m=\u001b[39mresponse\u001b[39m.\u001b[39mstatus_code, response\u001b[39m=\u001b[39mresponse, error_map\u001b[39m=\u001b[39merror_map)\n\u001b[1;32m-> 3282\u001b[0m     \u001b[39mraise\u001b[39;00m HttpResponseError(response\u001b[39m=\u001b[39mresponse, error_format\u001b[39m=\u001b[39mARMErrorFormat)\n\u001b[0;32m   3284\u001b[0m \u001b[39mif\u001b[39;00m response\u001b[39m.\u001b[39mstatus_code \u001b[39m==\u001b[39m \u001b[39m200\u001b[39m:\n\u001b[0;32m   3285\u001b[0m     deserialized \u001b[39m=\u001b[39m \u001b[39mself\u001b[39m\u001b[39m.\u001b[39m_deserialize(\u001b[39m\"\u001b[39m\u001b[39mDeploymentExtended\u001b[39m\u001b[39m\"\u001b[39m, pipeline_response)\n",
            "\u001b[1;31mHttpResponseError\u001b[0m: (AuthorizationFailed) The client 'bf43feda-9d06-450f-a4bd-b7b54708d826' with object id 'bf43feda-9d06-450f-a4bd-b7b54708d826' does not have authorization to perform action 'Microsoft.Resources/deployments/write' over scope '/subscriptions/ec967cb5-f2b0-43c2-9ba2-4a2eb94bbacc/resourcegroups/azureml-demos/providers/Microsoft.Resources/deployments/mlw-example-7390006' or the scope is invalid. If access was recently granted, please refresh your credentials.\nCode: AuthorizationFailed\nMessage: The client 'bf43feda-9d06-450f-a4bd-b7b54708d826' with object id 'bf43feda-9d06-450f-a4bd-b7b54708d826' does not have authorization to perform action 'Microsoft.Resources/deployments/write' over scope '/subscriptions/ec967cb5-f2b0-43c2-9ba2-4a2eb94bbacc/resourcegroups/azureml-demos/providers/Microsoft.Resources/deployments/mlw-example-7390006' or the scope is invalid. If access was recently granted, please refresh your credentials."
          ]
        }
      ],
      "source": [
        "from azure.ai.ml.entities import Workspace\n",
        "\n",
        "workspace_name = \"mlw-example\"\n",
        "\n",
        "ws_basic = Workspace(\n",
        "    name=workspace_name,\n",
        "    location=\"eastus\",\n",
        "    display_name=\"Basic workspace-example\",\n",
        "    description=\"This example shows how to create a basic workspace\",\n",
        ")\n",
        "ml_client.workspaces.begin_create(ws_basic)"
      ]
    }
  ],
  "metadata": {
    "authors": [
      {
        "name": "jamgan"
      }
    ],
    "category": "tutorial",
    "compute": [
      "Remote"
    ],
    "datasets": [
      "NOAA"
    ],
    "deployment": [
      "None"
    ],
    "exclude_from_index": false,
    "framework": [
      "Azure ML"
    ],
    "friendly_name": "Data drift quickdemo",
    "index_order": 1,
    "kernelspec": {
      "display_name": ".venv",
      "language": "python",
      "name": "python3"
    },
    "language_info": {
      "codemirror_mode": {
        "name": "ipython",
        "version": 3
      },
      "file_extension": ".py",
      "mimetype": "text/x-python",
      "name": "python",
      "nbconvert_exporter": "python",
      "pygments_lexer": "ipython3",
      "version": "3.10.11"
    },
    "star_tag": [
      "featured"
    ],
    "tags": [
      "Dataset",
      "Timeseries",
      "Drift"
    ],
    "task": "Filtering"
  },
  "nbformat": 4,
  "nbformat_minor": 4
}
